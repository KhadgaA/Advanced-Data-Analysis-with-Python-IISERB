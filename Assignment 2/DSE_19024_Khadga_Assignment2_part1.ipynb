{
 "cells": [
  {
   "cell_type": "markdown",
   "id": "122329a5-2ea4-47c2-a35a-96a67dd2c7f7",
   "metadata": {},
   "source": [
    "## Assignment 2\n",
    "> Dept : DSE\n",
    "\n",
    "> Name : Alli khadga Jyoth\n",
    "\n",
    "> Roll.No : 19024"
   ]
  },
  {
   "cell_type": "code",
   "execution_count": 1,
   "id": "0b84f1ee-c1b4-4d1f-bbbb-a4e33dccd9f8",
   "metadata": {},
   "outputs": [],
   "source": [
    "import numpy as np\n",
    "from numpy import random as rd"
   ]
  },
  {
   "cell_type": "markdown",
   "id": "c9df86cb-30a8-4be3-896a-ae98d8f8d9d2",
   "metadata": {},
   "source": [
    "### Excercise 1"
   ]
  },
  {
   "cell_type": "code",
   "execution_count": 2,
   "id": "41c197d0-7f6a-45dd-a162-bfb7d22af00d",
   "metadata": {},
   "outputs": [
    {
     "data": {
      "text/plain": [
       "array([98, 28, 22, 21, 85, 37, 26, 43, 23, 12])"
      ]
     },
     "execution_count": 2,
     "metadata": {},
     "output_type": "execute_result"
    }
   ],
   "source": [
    "#1\n",
    "a = np.random.randint(0,100,10)\n",
    "a"
   ]
  },
  {
   "cell_type": "code",
   "execution_count": 3,
   "id": "36167f3f-f5bc-4032-b9e3-df3b848b295a",
   "metadata": {},
   "outputs": [
    {
     "data": {
      "text/plain": [
       "(39.5, 27.390691849604675)"
      ]
     },
     "execution_count": 3,
     "metadata": {},
     "output_type": "execute_result"
    }
   ],
   "source": [
    "#2\n",
    "a.mean(),a.std()"
   ]
  },
  {
   "cell_type": "code",
   "execution_count": 4,
   "id": "21b8e1f2-5ae4-4500-a837-8822b09bd316",
   "metadata": {},
   "outputs": [
    {
     "data": {
      "text/plain": [
       "array([20, 87, 97, 56, 74, 37,  5, 98, 91, 31])"
      ]
     },
     "execution_count": 4,
     "metadata": {},
     "output_type": "execute_result"
    }
   ],
   "source": [
    "#3\n",
    "b = np.random.randint(0,100,10)\n",
    "b"
   ]
  },
  {
   "cell_type": "code",
   "execution_count": 5,
   "id": "de13a37e-0fdf-4124-809b-1ecb2eb16b59",
   "metadata": {},
   "outputs": [
    {
     "data": {
      "text/plain": [
       "array([108. ,  71.5,  70.5,  49. , 122. ,  55.5,  28.5,  92. ,  68.5,\n",
       "        27.5])"
      ]
     },
     "execution_count": 5,
     "metadata": {},
     "output_type": "execute_result"
    }
   ],
   "source": [
    "#4\n",
    "c = a+b / 2\n",
    "c"
   ]
  },
  {
   "cell_type": "code",
   "execution_count": 6,
   "id": "43d8e38e-daf8-4252-8cce-c615e18717ef",
   "metadata": {},
   "outputs": [
    {
     "data": {
      "text/plain": [
       "array([47.99887991, 43.42434592,  9.54240186, 68.56476555, 86.80467827,\n",
       "       63.56302631, 47.82886029,  6.18175587, 76.01594651, 78.29416548])"
      ]
     },
     "execution_count": 6,
     "metadata": {},
     "output_type": "execute_result"
    }
   ],
   "source": [
    "#5\n",
    "d = np.random.rand(10)\n",
    "d = d*100\n",
    "d"
   ]
  },
  {
   "cell_type": "code",
   "execution_count": 7,
   "id": "f8c6aaf6-82e3-4993-8d81-6193b670f84b",
   "metadata": {},
   "outputs": [
    {
     "data": {
      "text/plain": [
       "(52.82188259770309, 26.248357901786594)"
      ]
     },
     "execution_count": 7,
     "metadata": {},
     "output_type": "execute_result"
    }
   ],
   "source": [
    "#6\n",
    "d.mean(),d.std()"
   ]
  },
  {
   "cell_type": "code",
   "execution_count": 8,
   "id": "eb7bfcc8-9bd8-42f1-84f4-8b738e675f14",
   "metadata": {},
   "outputs": [
    {
     "data": {
      "text/plain": [
       "(6.181755874949435, 86.8046782666703)"
      ]
     },
     "execution_count": 8,
     "metadata": {},
     "output_type": "execute_result"
    }
   ],
   "source": [
    "#7\n",
    "d.min(),d.max()"
   ]
  },
  {
   "cell_type": "markdown",
   "id": "a6220607-a06c-439f-81ef-2fb760615b09",
   "metadata": {},
   "source": [
    "### Excercise 2"
   ]
  },
  {
   "cell_type": "code",
   "execution_count": 11,
   "id": "72669828-ff72-43a5-8f5d-1883932f8116",
   "metadata": {},
   "outputs": [
    {
     "data": {
      "text/plain": [
       "array([80, 93, 34, 64, 75, 60, 38, 88, 37, 29, 21, 15, 45, 30, 78, 16, 59,\n",
       "       57, 82, 45])"
      ]
     },
     "execution_count": 11,
     "metadata": {},
     "output_type": "execute_result"
    }
   ],
   "source": [
    "#1\n",
    "a = rd.randint(0,100,20)\n",
    "a"
   ]
  },
  {
   "cell_type": "code",
   "execution_count": 12,
   "id": "f1cdeddd-1f5f-46ed-ba9b-4a60fe0e7df4",
   "metadata": {},
   "outputs": [
    {
     "data": {
      "text/plain": [
       "88"
      ]
     },
     "execution_count": 12,
     "metadata": {},
     "output_type": "execute_result"
    }
   ],
   "source": [
    "#2\n",
    "a[a%2 ==0].max()"
   ]
  },
  {
   "cell_type": "code",
   "execution_count": 13,
   "id": "d275bea9-5ea5-4c07-8660-bc8c6b694e46",
   "metadata": {},
   "outputs": [
    {
     "data": {
      "text/plain": [
       "47.6"
      ]
     },
     "execution_count": 13,
     "metadata": {},
     "output_type": "execute_result"
    }
   ],
   "source": [
    "#3\n",
    "a[a%2 !=0].mean()"
   ]
  },
  {
   "cell_type": "code",
   "execution_count": 14,
   "id": "d7b36540-90cb-4142-bfd9-738c57d28b44",
   "metadata": {},
   "outputs": [
    {
     "data": {
      "text/plain": [
       "array([93, 45])"
      ]
     },
     "execution_count": 14,
     "metadata": {},
     "output_type": "execute_result"
    }
   ],
   "source": [
    "#4\n",
    "a[a%2 !=0][[0,-1]]    "
   ]
  },
  {
   "cell_type": "code",
   "execution_count": 19,
   "id": "86aa41d9-74de-4874-a7ec-e74a3b4680f9",
   "metadata": {},
   "outputs": [
    {
     "data": {
      "text/plain": [
       "array([181.87831431, 574.78478242,  92.9108513 , 596.10407017,\n",
       "       150.7844509 , 749.30024577, 934.37666222, 432.12752692,\n",
       "       717.38641675, 830.10665974, 658.38886062, 451.77952089,\n",
       "       853.16377513, 122.91428088, 719.32287006,  46.88994837,\n",
       "       393.64643615, 776.47897991, 231.60510348, 378.74026965])"
      ]
     },
     "execution_count": 19,
     "metadata": {},
     "output_type": "execute_result"
    }
   ],
   "source": [
    "#5\n",
    "b = rd.rand(20)*1000\n",
    "b"
   ]
  },
  {
   "cell_type": "code",
   "execution_count": 20,
   "id": "190f8bdc-3697-4efd-a9e2-fa8348da2d86",
   "metadata": {},
   "outputs": [
    {
     "data": {
      "text/plain": [
       "array([181.87831431,  92.9108513 , 150.7844509 , 432.12752692,\n",
       "       451.77952089, 122.91428088,  46.88994837, 393.64643615,\n",
       "       231.60510348, 378.74026965])"
      ]
     },
     "execution_count": 20,
     "metadata": {},
     "output_type": "execute_result"
    }
   ],
   "source": [
    "b[b<b.mean()]"
   ]
  },
  {
   "cell_type": "code",
   "execution_count": 21,
   "id": "9275073f-9d82-4c6e-a1e3-2d29ad69f44b",
   "metadata": {},
   "outputs": [
    {
     "data": {
      "text/plain": [
       "array([181.87831431,  92.9108513 , 150.7844509 , 122.91428088,\n",
       "        46.88994837])"
      ]
     },
     "execution_count": 21,
     "metadata": {},
     "output_type": "execute_result"
    }
   ],
   "source": [
    "b[b<(b.mean() - b.std())]"
   ]
  },
  {
   "cell_type": "markdown",
   "id": "29b03667-9539-4e41-9c5b-b221d15fc493",
   "metadata": {},
   "source": [
    "### Excercise 3"
   ]
  },
  {
   "cell_type": "code",
   "execution_count": 22,
   "id": "866de090-e641-4819-b492-7dc6597783d4",
   "metadata": {},
   "outputs": [],
   "source": [
    "a = rd.randint(0,100,20)"
   ]
  },
  {
   "cell_type": "code",
   "execution_count": 28,
   "id": "800f78a4-a4ba-476b-9e57-055923c6445b",
   "metadata": {},
   "outputs": [
    {
     "data": {
      "text/plain": [
       "72"
      ]
     },
     "execution_count": 28,
     "metadata": {},
     "output_type": "execute_result"
    }
   ],
   "source": [
    "b= a[a%2 ==0]\n",
    "b[b>a.mean()].min()"
   ]
  },
  {
   "cell_type": "code",
   "execution_count": 36,
   "id": "15f08fa5-3217-42bd-a641-350ced7cac2b",
   "metadata": {},
   "outputs": [
    {
     "data": {
      "text/plain": [
       "array([16, 80, 80,  0, 83,  0, 87])"
      ]
     },
     "execution_count": 36,
     "metadata": {},
     "output_type": "execute_result"
    }
   ],
   "source": [
    "a[(a<(a.mean()-a.std()))|(a>(a.mean()+a.std()))]"
   ]
  },
  {
   "cell_type": "code",
   "execution_count": 52,
   "id": "1981eb85-423b-4545-996f-d0c2f7abbca4",
   "metadata": {},
   "outputs": [
    {
     "data": {
      "text/plain": [
       "array([80, 23, 72, 27, 80, 49])"
      ]
     },
     "execution_count": 52,
     "metadata": {},
     "output_type": "execute_result"
    }
   ],
   "source": [
    "a[(a%2 !=0) & (a<a.mean()) |(a%2 ==0) & (a>a.mean()) ]"
   ]
  },
  {
   "cell_type": "markdown",
   "id": "ff52d889-6232-4211-973e-c539d0bac3be",
   "metadata": {},
   "source": [
    " ### Excercise 4"
   ]
  },
  {
   "cell_type": "code",
   "execution_count": 67,
   "id": "9c77fb30-c826-41fa-becd-dd20e1faf91b",
   "metadata": {},
   "outputs": [],
   "source": [
    "a = rd.randint(0,100,40)"
   ]
  },
  {
   "cell_type": "code",
   "execution_count": 68,
   "id": "efa73283-9fbe-4271-9636-43f5747ebc61",
   "metadata": {},
   "outputs": [
    {
     "data": {
      "text/plain": [
       "(63.225, 26.8677199442007)"
      ]
     },
     "execution_count": 68,
     "metadata": {},
     "output_type": "execute_result"
    }
   ],
   "source": [
    "a.mean(),a.std()"
   ]
  },
  {
   "cell_type": "code",
   "execution_count": 69,
   "id": "6b020432-4669-484f-bf83-9230cd0cd8ee",
   "metadata": {},
   "outputs": [
    {
     "data": {
      "text/plain": [
       "(array([63, 63, 63, 63, 63, 63, 63, 63, 63, 63, 63, 63, 63, 63, 63, 63, 63,\n",
       "        63, 63, 63, 63, 63, 63, 63, 63, 63, 63, 63, 63, 63, 63, 63, 63, 63,\n",
       "        63, 63, 63, 63, 63, 63]),\n",
       " 63.0,\n",
       " 0.0)"
      ]
     },
     "execution_count": 69,
     "metadata": {},
     "output_type": "execute_result"
    }
   ],
   "source": [
    "a[(a>(a.mean()-a.std())) | (a<(a.mean()+a.std()))]=a.mean()\n",
    "a,a.mean(),a.std()"
   ]
  },
  {
   "cell_type": "code",
   "execution_count": 72,
   "id": "67e95e13-90bc-42e9-863d-2a7be7551fbc",
   "metadata": {},
   "outputs": [
    {
     "data": {
      "text/plain": [
       "array([82, 71, 56, 70, 92, 21, 88, 10, 21, 75])"
      ]
     },
     "execution_count": 72,
     "metadata": {},
     "output_type": "execute_result"
    }
   ],
   "source": [
    "b = rd.randint(0,100,10)\n",
    "b"
   ]
  },
  {
   "cell_type": "code",
   "execution_count": 75,
   "id": "e4ffc3de-a9fd-41cb-9336-2247f82f8ad1",
   "metadata": {},
   "outputs": [
    {
     "data": {
      "text/plain": [
       "array([71, 71, 70, 70, 21, 21, 10, 10, 75, 75])"
      ]
     },
     "execution_count": 75,
     "metadata": {},
     "output_type": "execute_result"
    }
   ],
   "source": [
    "b[::2] = b[1::2]\n",
    "b"
   ]
  },
  {
   "cell_type": "markdown",
   "id": "837d5a8c-0b90-4861-ad5f-1bbbfd3fc1c8",
   "metadata": {},
   "source": [
    "### Excercise 5"
   ]
  },
  {
   "cell_type": "code",
   "execution_count": 107,
   "id": "7aa67330-6a36-4b79-bb1d-2a5220ce6c57",
   "metadata": {},
   "outputs": [],
   "source": [
    "a = rd.randint(0,100,10)"
   ]
  },
  {
   "cell_type": "code",
   "execution_count": 108,
   "id": "3912f1b4-638a-4fd9-9603-4bd3873ebac3",
   "metadata": {},
   "outputs": [
    {
     "data": {
      "text/plain": [
       "(62.7, 22.378784596130327)"
      ]
     },
     "execution_count": 108,
     "metadata": {},
     "output_type": "execute_result"
    }
   ],
   "source": [
    "a.mean(),a.std()"
   ]
  },
  {
   "cell_type": "code",
   "execution_count": 114,
   "id": "381767cc-fe05-4679-8bfc-b0c3eb4ba8b6",
   "metadata": {},
   "outputs": [
    {
     "data": {
      "text/plain": [
       "(array([ 86.81679217,  44.7028305 ,  54.41904521,  96.28226773,\n",
       "         89.82042734,  15.16748916, 105.86397474, 114.43770853,\n",
       "         81.00482139,  87.1803689 ,  92.7757234 ,  81.20467773,\n",
       "         91.82533112,  88.7372661 ,  76.82390496,  63.97503232,\n",
       "         62.95068373,  59.50129423,  75.08617714,  62.54080969]),\n",
       " 76.55583130397144,\n",
       " 22.214133838101407)"
      ]
     },
     "execution_count": 114,
     "metadata": {},
     "output_type": "execute_result"
    }
   ],
   "source": [
    "b=  rd.normal(loc = a.mean(),scale = a.std(),size=20)\n",
    "b,b.mean(),b.std()"
   ]
  },
  {
   "cell_type": "code",
   "execution_count": 115,
   "id": "76afe10d-a149-49ae-abf6-f338d553fac9",
   "metadata": {},
   "outputs": [
    {
     "data": {
      "text/plain": [
       "(array([86.81679217, 76.5558313 , 54.41904521, 96.28226773, 89.82042734,\n",
       "        76.5558313 , 76.5558313 , 76.5558313 , 81.00482139, 87.1803689 ,\n",
       "        92.7757234 , 81.20467773, 91.82533112, 88.7372661 , 76.82390496,\n",
       "        63.97503232, 62.95068373, 59.50129423, 75.08617714, 62.54080969]),\n",
       " 77.85839741898424,\n",
       " 11.743668864963244)"
      ]
     },
     "execution_count": 115,
     "metadata": {},
     "output_type": "execute_result"
    }
   ],
   "source": [
    "b[(b<(b.mean()-b.std())) | (b> (b.mean()+b.std()))] = b.mean()\n",
    "b,b.mean(),b.std()"
   ]
  },
  {
   "cell_type": "code",
   "execution_count": 111,
   "id": "706ae2c0-4996-4006-ad7a-f888e0fc2ec6",
   "metadata": {},
   "outputs": [
    {
     "data": {
      "text/plain": [
       "(array([ 8.26669856, 30.62727192, 34.52582286, 75.39856345, 90.38244167,\n",
       "        57.95546145, 94.64138412, 57.94791705, 73.66140412, 78.13829832,\n",
       "         8.97803684, 74.16742763, 16.07064585, 67.3328988 , 53.80535509,\n",
       "        24.09334087,  5.36999357, 71.6793736 , 91.09855926, 17.00159747]),\n",
       " 51.557124625318124)"
      ]
     },
     "execution_count": 111,
     "metadata": {},
     "output_type": "execute_result"
    }
   ],
   "source": [
    "c = rd.rand(20)*100\n",
    "c,c.mean()"
   ]
  },
  {
   "cell_type": "code",
   "execution_count": 112,
   "id": "d7a9ef5c-beb0-4263-a776-44f346c84efa",
   "metadata": {},
   "outputs": [
    {
     "data": {
      "text/plain": [
       "array([51.55712463, 51.55712463, 51.55712463, 75.39856345, 51.55712463,\n",
       "       57.95546145, 51.55712463, 57.94791705, 73.66140412, 51.55712463,\n",
       "       51.55712463, 51.55712463, 51.55712463, 67.3328988 , 53.80535509,\n",
       "       51.55712463,  5.36999357, 71.6793736 , 91.09855926, 17.00159747])"
      ]
     },
     "execution_count": 112,
     "metadata": {},
     "output_type": "execute_result"
    }
   ],
   "source": [
    "c[c.astype('int') %2 ==0] = c.mean()\n",
    "c"
   ]
  },
  {
   "cell_type": "markdown",
   "id": "8fa4ea8c-fed2-42fd-b058-1aacecf387c2",
   "metadata": {},
   "source": [
    "### Excercise 6"
   ]
  },
  {
   "cell_type": "code",
   "execution_count": 187,
   "id": "dcf51288-ffc5-4636-89e9-ee4ae06018b1",
   "metadata": {},
   "outputs": [],
   "source": [
    "a = rd.randint(0,1000,30)\n",
    "b = a.astype(np.float64)"
   ]
  },
  {
   "cell_type": "code",
   "execution_count": 188,
   "id": "2cc2131f-d8fd-44b4-8e75-5186277bc5d5",
   "metadata": {},
   "outputs": [
    {
     "data": {
      "text/plain": [
       "array([273., 633., 261.,  nan, 576., 246., 614.,  nan, 233.,  nan, 532.,\n",
       "        nan, 298.,  nan, 639.,  nan, 330.,  nan, 264., 500.,  nan,  nan,\n",
       "        nan, 525.,  nan, 628., 204., 331., 229., 653.])"
      ]
     },
     "execution_count": 188,
     "metadata": {},
     "output_type": "execute_result"
    }
   ],
   "source": [
    "b[(b<(b.mean()-b.std())) | (b> (b.mean()+b.std()))] = None\n",
    "b"
   ]
  },
  {
   "cell_type": "code",
   "execution_count": 199,
   "id": "3b009e2c-ca02-4af6-8f4e-64ed990e84ea",
   "metadata": {},
   "outputs": [
    {
     "data": {
      "text/plain": [
       "array([273.        , 633.        , 261.        , 419.42105263,\n",
       "       576.        , 246.        , 614.        , 419.42105263,\n",
       "       233.        , 419.42105263, 532.        , 419.42105263,\n",
       "       298.        , 419.42105263, 639.        , 419.42105263,\n",
       "       330.        , 419.42105263, 264.        , 500.        ,\n",
       "       419.42105263, 419.42105263, 419.42105263, 525.        ,\n",
       "       419.42105263, 628.        , 204.        , 331.        ,\n",
       "       229.        , 653.        ])"
      ]
     },
     "execution_count": 199,
     "metadata": {},
     "output_type": "execute_result"
    }
   ],
   "source": [
    "b[np.isnan(b)] = b[~np.isnan(b)].mean()\n",
    "b"
   ]
  },
  {
   "cell_type": "markdown",
   "id": "8ab8f879-b68b-43c4-93e5-0301331c0593",
   "metadata": {},
   "source": [
    "### Excercise 7"
   ]
  },
  {
   "cell_type": "code",
   "execution_count": 266,
   "id": "00f323d1-ed8c-4f78-8892-8c4806330842",
   "metadata": {},
   "outputs": [
    {
     "data": {
      "text/plain": [
       "array([[71, 70, 84, ..., 86, 18, 14],\n",
       "       [91, 60, 61, ..., 17, 45, 42],\n",
       "       [ 4, 28, 68, ..., 58,  1, 63],\n",
       "       ...,\n",
       "       [35, 92, 38, ..., 35,  7, 41],\n",
       "       [94, 68, 86, ..., 41, 59, 92],\n",
       "       [33,  4, 86, ..., 81, 28,  2]])"
      ]
     },
     "execution_count": 266,
     "metadata": {},
     "output_type": "execute_result"
    }
   ],
   "source": [
    "a = rd.randint(0,100,(45,45))\n",
    "a"
   ]
  },
  {
   "cell_type": "code",
   "execution_count": 267,
   "id": "def26eac-157f-4eb9-94bc-3df5c4d79026",
   "metadata": {},
   "outputs": [
    {
     "data": {
      "text/plain": [
       "array([ 4, 28, 68, 65, 48, 12, 88, 87, 96, 15, 92, 60, 83,  9, 62, 47, 41,\n",
       "       76, 86, 43, 88, 79, 10, 94, 10, 26, 53, 47, 92, 19,  4, 10, 89, 21,\n",
       "       64, 11, 29, 31, 12, 89, 99, 30, 58,  1, 63])"
      ]
     },
     "execution_count": 267,
     "metadata": {},
     "output_type": "execute_result"
    }
   ],
   "source": [
    "a[2]"
   ]
  },
  {
   "cell_type": "code",
   "execution_count": 268,
   "id": "934c027d-b07d-453f-aa8e-70a357d2ad18",
   "metadata": {},
   "outputs": [
    {
     "data": {
      "text/plain": [
       "array([88, 52, 65, 61, 62, 58, 96, 85, 74, 75, 89, 63, 69, 13, 24, 47, 19,\n",
       "       15, 16, 74, 80, 80, 63, 97, 15, 26, 46, 19, 83, 53, 84, 45, 80, 46,\n",
       "       31, 55, 20, 57, 54, 77, 36, 21, 33, 85, 86])"
      ]
     },
     "execution_count": 268,
     "metadata": {},
     "output_type": "execute_result"
    }
   ],
   "source": [
    "a[:,3]"
   ]
  },
  {
   "cell_type": "code",
   "execution_count": 269,
   "id": "c2d800a5-01b7-48a5-9b4b-5637c44c27f2",
   "metadata": {},
   "outputs": [
    {
     "data": {
      "text/plain": [
       "array([[91, 60, 61, 52, 55, 88, 17, 89, 61, 16, 36, 32, 89,  2, 25, 83,\n",
       "        19, 92, 14, 15, 77,  2, 97, 16, 34, 15, 70, 42,  1, 60, 95, 68,\n",
       "        38,  3, 83, 26, 27, 22, 80, 97, 19, 82, 17, 45, 42],\n",
       "       [37, 26, 86, 62, 56, 43, 19, 62, 67, 25, 19, 16, 83, 28, 51, 73,\n",
       "         0, 30, 62, 88, 32, 85, 36, 22, 46, 91, 83, 38, 90, 80, 31, 37,\n",
       "        90, 79, 29, 37, 13, 77, 92, 22, 37, 77, 86, 57, 93]])"
      ]
     },
     "execution_count": 269,
     "metadata": {},
     "output_type": "execute_result"
    }
   ],
   "source": [
    "a[[1,4]]"
   ]
  },
  {
   "cell_type": "code",
   "execution_count": 270,
   "id": "4467165c-a593-4bdb-838f-221a4272a1df",
   "metadata": {},
   "outputs": [
    {
     "data": {
      "text/plain": [
       "array([[70,  5],\n",
       "       [60, 55],\n",
       "       [28, 48],\n",
       "       [74, 91],\n",
       "       [26, 56],\n",
       "       [89, 69],\n",
       "       [ 5, 72],\n",
       "       [83, 73],\n",
       "       [12, 17],\n",
       "       [79, 58],\n",
       "       [42, 43],\n",
       "       [ 3, 92],\n",
       "       [ 8, 64],\n",
       "       [50, 83],\n",
       "       [80, 56],\n",
       "       [88, 82],\n",
       "       [15, 75],\n",
       "       [39, 94],\n",
       "       [33, 78],\n",
       "       [78, 84],\n",
       "       [34, 48],\n",
       "       [16,  1],\n",
       "       [81, 24],\n",
       "       [54, 53],\n",
       "       [12, 95],\n",
       "       [53, 79],\n",
       "       [97, 69],\n",
       "       [92,  2],\n",
       "       [10, 29],\n",
       "       [58, 23],\n",
       "       [32, 34],\n",
       "       [51, 18],\n",
       "       [44, 66],\n",
       "       [23, 69],\n",
       "       [31,  4],\n",
       "       [12, 56],\n",
       "       [41, 28],\n",
       "       [82, 46],\n",
       "       [67, 64],\n",
       "       [ 8,  5],\n",
       "       [73, 64],\n",
       "       [67, 44],\n",
       "       [92, 26],\n",
       "       [68, 43],\n",
       "       [ 4, 79]])"
      ]
     },
     "execution_count": 270,
     "metadata": {},
     "output_type": "execute_result"
    }
   ],
   "source": [
    "a[:,[1,4]]"
   ]
  },
  {
   "cell_type": "code",
   "execution_count": 271,
   "id": "d8e3e95c-bf53-4e83-b128-713f6cf48234",
   "metadata": {},
   "outputs": [
    {
     "data": {
      "text/plain": [
       "52.27272727272727"
      ]
     },
     "execution_count": 271,
     "metadata": {},
     "output_type": "execute_result"
    }
   ],
   "source": [
    "a[4][a[4]%2 == 0].mean()"
   ]
  },
  {
   "cell_type": "code",
   "execution_count": 272,
   "id": "05e42f64-6335-4e10-bffb-b329f7aa77d8",
   "metadata": {},
   "outputs": [
    {
     "data": {
      "text/plain": [
       "52.8"
      ]
     },
     "execution_count": 272,
     "metadata": {},
     "output_type": "execute_result"
    }
   ],
   "source": [
    "a[:,4][a[:,4]%2 !=0].mean()"
   ]
  },
  {
   "cell_type": "markdown",
   "id": "a7f73912-34f5-456f-a569-b6c02943d0ab",
   "metadata": {},
   "source": [
    "### Excercise 8"
   ]
  },
  {
   "cell_type": "code",
   "execution_count": 273,
   "id": "1bf7f46a-5417-4c47-bdc8-6c01cc5d1115",
   "metadata": {},
   "outputs": [
    {
     "data": {
      "text/plain": [
       "array([[69, 87, 33, 69, 32, 92],\n",
       "       [18,  4, 30, 77, 89, 92],\n",
       "       [ 8, 48,  1, 37, 77, 60],\n",
       "       [76, 77, 50, 52,  7,  0],\n",
       "       [82, 86, 34, 41, 23, 62],\n",
       "       [79, 84, 16, 86, 25, 27]])"
      ]
     },
     "execution_count": 273,
     "metadata": {},
     "output_type": "execute_result"
    }
   ],
   "source": [
    "a = rd.randint(0,100,[6,6])\n",
    "a"
   ]
  },
  {
   "cell_type": "code",
   "execution_count": 274,
   "id": "d4e3d5ab-84f5-4efb-8d8f-ea0b575708fb",
   "metadata": {},
   "outputs": [
    {
     "data": {
      "text/plain": [
       "array([55.33333333, 64.33333333, 27.33333333, 60.33333333, 42.16666667,\n",
       "       55.5       ])"
      ]
     },
     "execution_count": 274,
     "metadata": {},
     "output_type": "execute_result"
    }
   ],
   "source": [
    "a.mean(axis = 0)"
   ]
  },
  {
   "cell_type": "code",
   "execution_count": 275,
   "id": "8409b7d6-1e1e-4c28-b182-b26e7bd15e0f",
   "metadata": {},
   "outputs": [
    {
     "data": {
      "text/plain": [
       "array([[ 69,  87,  33,  69,  64, 184],\n",
       "       [ 36,   8,  60,  77,  89, 184],\n",
       "       [ 16,  96,   1,  37,  77, 120],\n",
       "       [152,  77, 100, 104,   7,   0],\n",
       "       [164, 172,  68,  41,  23, 124],\n",
       "       [ 79, 168,  32, 172,  25,  27]])"
      ]
     },
     "execution_count": 275,
     "metadata": {},
     "output_type": "execute_result"
    }
   ],
   "source": [
    "a[a%2 ==0] = a[a%2 ==0]*2\n",
    "a"
   ]
  },
  {
   "cell_type": "code",
   "execution_count": 276,
   "id": "3ff9ae76-a5b7-43c1-aae0-c69d4150e6eb",
   "metadata": {},
   "outputs": [
    {
     "data": {
      "text/plain": [
       "array([ 86.        , 101.33333333,  49.        ,  83.33333333,\n",
       "        47.5       , 106.5       ])"
      ]
     },
     "execution_count": 276,
     "metadata": {},
     "output_type": "execute_result"
    }
   ],
   "source": [
    "a.mean(axis = 0)"
   ]
  },
  {
   "cell_type": "code",
   "execution_count": 277,
   "id": "f6b9f96d-4309-4605-8f06-27a29978e9ed",
   "metadata": {},
   "outputs": [
    {
     "data": {
      "text/plain": [
       "(array([[ 69,  36,  16, 152, 164,  79],\n",
       "        [ 87,   8,  96,  77, 172, 168],\n",
       "        [ 33,  60,   1, 100,  68,  32],\n",
       "        [ 69,  77,  37, 104,  41, 172],\n",
       "        [ 64,  89,  77,   7,  23,  25],\n",
       "        [184, 184, 120,   0, 124,  27]]),\n",
       " array([ 86.        , 101.33333333,  49.        ,  83.33333333,\n",
       "         47.5       , 106.5       ]))"
      ]
     },
     "execution_count": 277,
     "metadata": {},
     "output_type": "execute_result"
    }
   ],
   "source": [
    "a = a.transpose()\n",
    "a,a.mean(axis = 1)"
   ]
  },
  {
   "cell_type": "code",
   "execution_count": 278,
   "id": "8ba0fb0e-80e1-4c9b-8459-b525b3ac5a7f",
   "metadata": {},
   "outputs": [
    {
     "data": {
      "text/plain": [
       "array([[ 33,   8,   1,   0,  23,  25],\n",
       "       [ 64,  36,  16,   7,  41,  27],\n",
       "       [ 69,  60,  37,  77,  68,  32],\n",
       "       [ 69,  77,  77, 100, 124,  79],\n",
       "       [ 87,  89,  96, 104, 164, 168],\n",
       "       [184, 184, 120, 152, 172, 172]])"
      ]
     },
     "execution_count": 278,
     "metadata": {},
     "output_type": "execute_result"
    }
   ],
   "source": [
    "a.sort(axis = 0)\n",
    "a"
   ]
  },
  {
   "cell_type": "code",
   "execution_count": null,
   "id": "81ada250-367c-4a2b-80ee-4d194297bc9c",
   "metadata": {},
   "outputs": [],
   "source": []
  },
  {
   "cell_type": "code",
   "execution_count": null,
   "id": "1df482ca-8d5e-45bd-b06e-663ed3bf6ee9",
   "metadata": {},
   "outputs": [],
   "source": []
  }
 ],
 "metadata": {
  "kernelspec": {
   "display_name": "Python 3 (ipykernel)",
   "language": "python",
   "name": "python3"
  },
  "language_info": {
   "codemirror_mode": {
    "name": "ipython",
    "version": 3
   },
   "file_extension": ".py",
   "mimetype": "text/x-python",
   "name": "python",
   "nbconvert_exporter": "python",
   "pygments_lexer": "ipython3",
   "version": "3.8.8"
  }
 },
 "nbformat": 4,
 "nbformat_minor": 5
}
