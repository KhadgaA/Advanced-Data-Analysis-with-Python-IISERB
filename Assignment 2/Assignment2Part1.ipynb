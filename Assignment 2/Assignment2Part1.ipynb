{
 "cells": [
  {
   "cell_type": "markdown",
   "metadata": {},
   "source": [
    "## Assignment 2 \n",
    "### Due Date: 26 September 2021, Sunday, 11.00 am"
   ]
  },
  {
   "cell_type": "markdown",
   "metadata": {},
   "source": [
    "### Example: Basic Numpy\n",
    "\n",
    "(1) Create a NumPy array with the integers from your birthdate (year,\n",
    "    month, and day)\n",
    "\n",
    "(2) Retrieve the year.\n",
    "\n",
    "(3) Replace the year with the current year.\n",
    "\n",
    "(4) Create a NumPy array containing every 3rd number from 567 to 890. What is the 8th number in this array?  What is the 15th?"
   ]
  },
  {
   "cell_type": "code",
   "execution_count": 1,
   "metadata": {},
   "outputs": [],
   "source": [
    "import numpy as np"
   ]
  },
  {
   "cell_type": "code",
   "execution_count": 3,
   "metadata": {},
   "outputs": [],
   "source": [
    "# 1\n",
    "a = np.array([1986, 12, 24])"
   ]
  },
  {
   "cell_type": "code",
   "execution_count": 4,
   "metadata": {},
   "outputs": [
    {
     "data": {
      "text/plain": [
       "1986"
      ]
     },
     "execution_count": 4,
     "metadata": {},
     "output_type": "execute_result"
    }
   ],
   "source": [
    "# 2\n",
    "a[0]"
   ]
  },
  {
   "cell_type": "code",
   "execution_count": 5,
   "metadata": {},
   "outputs": [],
   "source": [
    "# 3\n",
    "a[0] = 2021"
   ]
  },
  {
   "cell_type": "code",
   "execution_count": 8,
   "metadata": {},
   "outputs": [
    {
     "data": {
      "text/plain": [
       "array([567, 570, 573, 576, 579, 582, 585, 588, 591, 594, 597, 600, 603,\n",
       "       606, 609, 612, 615, 618, 621, 624, 627, 630, 633, 636, 639, 642,\n",
       "       645, 648, 651, 654, 657, 660, 663, 666, 669, 672, 675, 678, 681,\n",
       "       684, 687, 690, 693, 696, 699, 702, 705, 708, 711, 714, 717, 720,\n",
       "       723, 726, 729, 732, 735, 738, 741, 744, 747, 750, 753, 756, 759,\n",
       "       762, 765, 768, 771, 774, 777, 780, 783, 786, 789, 792, 795, 798,\n",
       "       801, 804, 807, 810, 813, 816, 819, 822, 825, 828, 831, 834, 837,\n",
       "       840, 843, 846, 849, 852, 855, 858, 861, 864, 867, 870, 873, 876,\n",
       "       879, 882, 885, 888])"
      ]
     },
     "execution_count": 8,
     "metadata": {},
     "output_type": "execute_result"
    }
   ],
   "source": [
    "# 4\n",
    "a= np.arange(567, 890, 3)\n",
    "a"
   ]
  },
  {
   "cell_type": "code",
   "execution_count": 9,
   "metadata": {},
   "outputs": [
    {
     "data": {
      "text/plain": [
       "591"
      ]
     },
     "execution_count": 9,
     "metadata": {},
     "output_type": "execute_result"
    }
   ],
   "source": [
    "a[8]"
   ]
  },
  {
   "cell_type": "code",
   "execution_count": 10,
   "metadata": {},
   "outputs": [
    {
     "data": {
      "text/plain": [
       "612"
      ]
     },
     "execution_count": 10,
     "metadata": {},
     "output_type": "execute_result"
    }
   ],
   "source": [
    "a[15]"
   ]
  },
  {
   "cell_type": "markdown",
   "metadata": {},
   "source": [
    "### Exercise 1 Basic Numpy\n",
    "\n",
    "(1) Create an array of 10 random integers, from 0-100.\n",
    "\n",
    "(2) Find the mean and standard deviation of these numbers.  \n",
    "\n",
    "(3) Create another array of 10 random integers, from 0-100.\n",
    "\n",
    "(4) Create a new array whose elements are the average of those from\n",
    "    each of the previous ones.  \n",
    "\n",
    "(5) Create an array of 10 random floats, from 0-100.\n",
    "\n",
    "(6) We would expect the mean to be approaximately 50.  Is it?  What's\n",
    "    the standard deviation?\n",
    "\n",
    "(7) What are the min and max values?"
   ]
  },
  {
   "cell_type": "markdown",
   "metadata": {},
   "source": [
    "### Exercise 2 Indexing\n",
    "\n",
    "(1) Create an array of 20 random integers from 0 to 100.\n",
    "\n",
    "(2) Find the largest even number.\n",
    "\n",
    "(3) Find the mean of the odd numbers.\n",
    "\n",
    "(4) Create a NumPy array from the first and last odd numbers.\n",
    "\n",
    "(5) Create an array of 20 floats from 0-1,000.\n",
    "\n",
    "(6) Find the items that are less than the mean.\n",
    "\n",
    "(7) Find the items less than mean-std."
   ]
  },
  {
   "cell_type": "markdown",
   "metadata": {},
   "source": [
    "### Exercise 3 More indexing\n",
    "\n",
    "(1) Create a NumPy array of 20 random integers from 0-100.\n",
    "\n",
    "(2) What's the smallest even number greater than the mean?\n",
    "\n",
    "(3) Show all numbers either < mean-std OR > mean+std.\n",
    "\n",
    "(4) Show odd numbers < mean and even numbers > mean."
   ]
  },
  {
   "cell_type": "markdown",
   "metadata": {},
   "source": [
    "### Exercise 4 Assigning via indexes\n",
    "\n",
    "(1) Create a NumPy array of 40 random integers, from 0-100.\n",
    "\n",
    "(2) Find all numbers that are within 1 standard deviation of the mean,\n",
    "    and set them to be equal to the mean.  Has the mean changed?  Has\n",
    "    the std changed?\n",
    "\n",
    "(3) Create another NumPy array of 10 random integers, from 0-100.\n",
    "\n",
    "(4) Set the item at the even indexes to be equal to the items at the odd\n",
    "    indexes.  So index 0 will get the value at index 1, etc.\n"
   ]
  },
  {
   "cell_type": "markdown",
   "metadata": {},
   "source": [
    "### Exercise 5 Data types\n",
    "\n",
    "(1) Create a NumPy array of 10 random integers from 0-100.\n",
    "\n",
    "(2) Calculate the mean, which will be a float.\n",
    "\n",
    "(3) Create an array of type float based on it, and replace the\n",
    "    outliers (i.e., <mean-std or >mean+std) with the mean.\n",
    "\n",
    "(4) Create a NumPy array of 20 random floats from 0-100.\n",
    "\n",
    "(5) Replace those numbers whose int portion is even with the mean.\n",
    "    (So 20.5 would be replaced, but 21.5 would not be.)"
   ]
  },
  {
   "cell_type": "markdown",
   "metadata": {},
   "source": [
    "### Exercise 6 nan\n",
    "\n",
    "(1) Create a NumPy array of 30 random ints from 0-1000.\n",
    "\n",
    "(2) Find the numbers that are <mean-std or >mean+std, and set them to\n",
    "    be nan\n",
    "\n",
    "(3) Now change those nan values to be the mean of the array's\n",
    "    elements."
   ]
  },
  {
   "cell_type": "markdown",
   "metadata": {},
   "source": [
    "### Exercise 7 Multidimensional NumPy\n",
    "\n",
    "(1) Create a 2-dimensional NumPy array of 45 random integers, from 0-100.\n",
    "\n",
    "(2) Retrieve the elements at row index 2.\n",
    "\n",
    "(3) Retrieve the elements at column index 3.\n",
    "\n",
    "(4) Retrieve the elements at row indexes 1 and 4.\n",
    "\n",
    "(5) Retrieve the elements at column indexes 1 and 4.\n",
    "\n",
    "(6) Get the mean of the even numbers in row index 4.\n",
    "\n",
    "(7) Get the mean of the odd numbers in column index 4."
   ]
  },
  {
   "cell_type": "markdown",
   "metadata": {},
   "source": [
    "### Exercise 8 More Multidimensional\n",
    "\n",
    "(1) Create a 6x6 NumPy array with random integers from 0-100.\n",
    "\n",
    "(2) What is the mean of each column?\n",
    "\n",
    "(3) Replace all even numbers in the array with twice their values. (So\n",
    "    20 will become 40, and 40 will become 80.)\n",
    "\n",
    "(4) Once again, calculate the mean of each column\n",
    "\n",
    "(5) Now transpose the array and calculate the mean of each row.  Is it\n",
    "    the same as you got before?\n",
    "\n",
    "(6) Now sort each of the columns in the transposed array.  What does\n",
    "    it look like now?"
   ]
  },
  {
   "cell_type": "code",
   "execution_count": null,
   "metadata": {},
   "outputs": [],
   "source": []
  }
 ],
 "metadata": {
  "kernelspec": {
   "display_name": "Python 3 (ipykernel)",
   "language": "python",
   "name": "python3"
  },
  "language_info": {
   "codemirror_mode": {
    "name": "ipython",
    "version": 3
   },
   "file_extension": ".py",
   "mimetype": "text/x-python",
   "name": "python",
   "nbconvert_exporter": "python",
   "pygments_lexer": "ipython3",
   "version": "3.8.8"
  }
 },
 "nbformat": 4,
 "nbformat_minor": 4
}
