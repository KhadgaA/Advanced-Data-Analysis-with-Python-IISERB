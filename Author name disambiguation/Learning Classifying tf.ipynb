{
 "cells": [
  {
   "cell_type": "markdown",
   "id": "09d8cb2a-8b03-4006-8f68-d9cf0a5e8cd3",
   "metadata": {
    "tags": []
   },
   "source": [
    "## Trying a classifying model with Tensorflow\n",
    "> Classifying different species of flowers using some features\n",
    "\n",
    "<https://youtu.be/tPYj3fFJGjk> \n",
    "\n",
    "### This example will be the blueprint "
   ]
  },
  {
   "cell_type": "code",
   "execution_count": 29,
   "id": "a8b2da25-1bc5-46c4-988d-9f3e7a37c508",
   "metadata": {},
   "outputs": [],
   "source": [
    "import tensorflow as tf\n",
    "import pandas as pd"
   ]
  },
  {
   "cell_type": "code",
   "execution_count": 30,
   "id": "e617846c-f0a1-4b1f-a277-cddb0e87ddbc",
   "metadata": {},
   "outputs": [
    {
     "data": {
      "text/plain": [
       "'2.5.0'"
      ]
     },
     "execution_count": 30,
     "metadata": {},
     "output_type": "execute_result"
    }
   ],
   "source": [
    "tf.__version__"
   ]
  },
  {
   "cell_type": "code",
   "execution_count": 31,
   "id": "2a283685-6bf1-4ea6-8a3b-6141213c6345",
   "metadata": {},
   "outputs": [],
   "source": [
    "CSV_COLUMN_NAMES = ['SepalLength', 'SepalWidth', 'PetalLength', 'PetalWidth', 'Species']\n",
    "SPECIES = ['Setosa', 'Versicolor', 'Virginica']\n",
    "# Lets define some constants to help us later on"
   ]
  },
  {
   "cell_type": "code",
   "execution_count": 32,
   "id": "f3d37738-b5a6-4e6b-a988-66add61143c1",
   "metadata": {},
   "outputs": [],
   "source": [
    "train_path = tf.keras.utils.get_file(\n",
    "    \"iris_training.csv\", \"https://storage.googleapis.com/download.tensorflow.org/data/iris_training.csv\")\n",
    "test_path = tf.keras.utils.get_file(\n",
    "    \"iris_test.csv\", \"https://storage.googleapis.com/download.tensorflow.org/data/iris_test.csv\")\n",
    "\n",
    "train = pd.read_csv(train_path, names=CSV_COLUMN_NAMES, header=0)\n",
    "test = pd.read_csv(test_path, names=CSV_COLUMN_NAMES, header=0)\n",
    "# Here we use keras (a module inside of TensorFlow) to grab our datasets and read them into a pandas dataframe"
   ]
  },
  {
   "cell_type": "code",
   "execution_count": 33,
   "id": "449bd84b-dd97-46c2-b241-eb6eaa4d47bb",
   "metadata": {},
   "outputs": [
    {
     "data": {
      "text/html": [
       "<div>\n",
       "<style scoped>\n",
       "    .dataframe tbody tr th:only-of-type {\n",
       "        vertical-align: middle;\n",
       "    }\n",
       "\n",
       "    .dataframe tbody tr th {\n",
       "        vertical-align: top;\n",
       "    }\n",
       "\n",
       "    .dataframe thead th {\n",
       "        text-align: right;\n",
       "    }\n",
       "</style>\n",
       "<table border=\"1\" class=\"dataframe\">\n",
       "  <thead>\n",
       "    <tr style=\"text-align: right;\">\n",
       "      <th></th>\n",
       "      <th>SepalLength</th>\n",
       "      <th>SepalWidth</th>\n",
       "      <th>PetalLength</th>\n",
       "      <th>PetalWidth</th>\n",
       "      <th>Species</th>\n",
       "    </tr>\n",
       "  </thead>\n",
       "  <tbody>\n",
       "    <tr>\n",
       "      <th>0</th>\n",
       "      <td>6.4</td>\n",
       "      <td>2.8</td>\n",
       "      <td>5.6</td>\n",
       "      <td>2.2</td>\n",
       "      <td>2</td>\n",
       "    </tr>\n",
       "    <tr>\n",
       "      <th>1</th>\n",
       "      <td>5.0</td>\n",
       "      <td>2.3</td>\n",
       "      <td>3.3</td>\n",
       "      <td>1.0</td>\n",
       "      <td>1</td>\n",
       "    </tr>\n",
       "    <tr>\n",
       "      <th>2</th>\n",
       "      <td>4.9</td>\n",
       "      <td>2.5</td>\n",
       "      <td>4.5</td>\n",
       "      <td>1.7</td>\n",
       "      <td>2</td>\n",
       "    </tr>\n",
       "    <tr>\n",
       "      <th>3</th>\n",
       "      <td>4.9</td>\n",
       "      <td>3.1</td>\n",
       "      <td>1.5</td>\n",
       "      <td>0.1</td>\n",
       "      <td>0</td>\n",
       "    </tr>\n",
       "    <tr>\n",
       "      <th>4</th>\n",
       "      <td>5.7</td>\n",
       "      <td>3.8</td>\n",
       "      <td>1.7</td>\n",
       "      <td>0.3</td>\n",
       "      <td>0</td>\n",
       "    </tr>\n",
       "  </tbody>\n",
       "</table>\n",
       "</div>"
      ],
      "text/plain": [
       "   SepalLength  SepalWidth  PetalLength  PetalWidth  Species\n",
       "0          6.4         2.8          5.6         2.2        2\n",
       "1          5.0         2.3          3.3         1.0        1\n",
       "2          4.9         2.5          4.5         1.7        2\n",
       "3          4.9         3.1          1.5         0.1        0\n",
       "4          5.7         3.8          1.7         0.3        0"
      ]
     },
     "execution_count": 33,
     "metadata": {},
     "output_type": "execute_result"
    }
   ],
   "source": [
    "train.head()"
   ]
  },
  {
   "cell_type": "code",
   "execution_count": 34,
   "id": "da58dae1-2227-4285-9f85-0ece8340b408",
   "metadata": {},
   "outputs": [
    {
     "data": {
      "text/html": [
       "<div>\n",
       "<style scoped>\n",
       "    .dataframe tbody tr th:only-of-type {\n",
       "        vertical-align: middle;\n",
       "    }\n",
       "\n",
       "    .dataframe tbody tr th {\n",
       "        vertical-align: top;\n",
       "    }\n",
       "\n",
       "    .dataframe thead th {\n",
       "        text-align: right;\n",
       "    }\n",
       "</style>\n",
       "<table border=\"1\" class=\"dataframe\">\n",
       "  <thead>\n",
       "    <tr style=\"text-align: right;\">\n",
       "      <th></th>\n",
       "      <th>SepalLength</th>\n",
       "      <th>SepalWidth</th>\n",
       "      <th>PetalLength</th>\n",
       "      <th>PetalWidth</th>\n",
       "      <th>Species</th>\n",
       "    </tr>\n",
       "  </thead>\n",
       "  <tbody>\n",
       "    <tr>\n",
       "      <th>0</th>\n",
       "      <td>5.9</td>\n",
       "      <td>3.0</td>\n",
       "      <td>4.2</td>\n",
       "      <td>1.5</td>\n",
       "      <td>1</td>\n",
       "    </tr>\n",
       "    <tr>\n",
       "      <th>1</th>\n",
       "      <td>6.9</td>\n",
       "      <td>3.1</td>\n",
       "      <td>5.4</td>\n",
       "      <td>2.1</td>\n",
       "      <td>2</td>\n",
       "    </tr>\n",
       "    <tr>\n",
       "      <th>2</th>\n",
       "      <td>5.1</td>\n",
       "      <td>3.3</td>\n",
       "      <td>1.7</td>\n",
       "      <td>0.5</td>\n",
       "      <td>0</td>\n",
       "    </tr>\n",
       "    <tr>\n",
       "      <th>3</th>\n",
       "      <td>6.0</td>\n",
       "      <td>3.4</td>\n",
       "      <td>4.5</td>\n",
       "      <td>1.6</td>\n",
       "      <td>1</td>\n",
       "    </tr>\n",
       "    <tr>\n",
       "      <th>4</th>\n",
       "      <td>5.5</td>\n",
       "      <td>2.5</td>\n",
       "      <td>4.0</td>\n",
       "      <td>1.3</td>\n",
       "      <td>1</td>\n",
       "    </tr>\n",
       "  </tbody>\n",
       "</table>\n",
       "</div>"
      ],
      "text/plain": [
       "   SepalLength  SepalWidth  PetalLength  PetalWidth  Species\n",
       "0          5.9         3.0          4.2         1.5        1\n",
       "1          6.9         3.1          5.4         2.1        2\n",
       "2          5.1         3.3          1.7         0.5        0\n",
       "3          6.0         3.4          4.5         1.6        1\n",
       "4          5.5         2.5          4.0         1.3        1"
      ]
     },
     "execution_count": 34,
     "metadata": {},
     "output_type": "execute_result"
    }
   ],
   "source": [
    "test.head()"
   ]
  },
  {
   "cell_type": "code",
   "execution_count": 35,
   "id": "14c13d23-1ecb-4d59-af1d-3728165ffe77",
   "metadata": {},
   "outputs": [
    {
     "data": {
      "text/plain": [
       "0      2\n",
       "1      1\n",
       "2      2\n",
       "3      0\n",
       "4      0\n",
       "      ..\n",
       "115    1\n",
       "116    1\n",
       "117    0\n",
       "118    0\n",
       "119    1\n",
       "Name: Species, Length: 120, dtype: int64"
      ]
     },
     "execution_count": 35,
     "metadata": {},
     "output_type": "execute_result"
    }
   ],
   "source": [
    "train_y = train.pop('Species')\n",
    "test_y = test.pop('Species')\n",
    "train_y # the species column is now gone"
   ]
  },
  {
   "cell_type": "code",
   "execution_count": 36,
   "id": "99259320-2aef-47b9-b15c-966b7d2791d0",
   "metadata": {},
   "outputs": [
    {
     "data": {
      "text/plain": [
       "(120, 4)"
      ]
     },
     "execution_count": 36,
     "metadata": {},
     "output_type": "execute_result"
    }
   ],
   "source": [
    "train.shape  # we have 120 entires with 4 features"
   ]
  },
  {
   "cell_type": "code",
   "execution_count": 17,
   "id": "b0179138-11e8-43e7-ab49-565f89c9acca",
   "metadata": {},
   "outputs": [],
   "source": [
    "def input_fn(features, labels, training=True, batch_size=256):\n",
    "    # Convert the inputs to a Dataset.\n",
    "    dataset = tf.data.Dataset.from_tensor_slices((dict(features), labels))\n",
    "\n",
    "    # Shuffle and repeat if you are in training mode.\n",
    "    if training:\n",
    "        dataset = dataset.shuffle(1000).repeat()\n",
    "    \n",
    "    return dataset.batch(batch_size)\n"
   ]
  },
  {
   "cell_type": "code",
   "execution_count": 18,
   "id": "03796bc8-184b-4751-acd1-2088d10d7cda",
   "metadata": {},
   "outputs": [
    {
     "name": "stdout",
     "output_type": "stream",
     "text": [
      "[NumericColumn(key='SepalLength', shape=(1,), default_value=None, dtype=tf.float32, normalizer_fn=None), NumericColumn(key='SepalWidth', shape=(1,), default_value=None, dtype=tf.float32, normalizer_fn=None), NumericColumn(key='PetalLength', shape=(1,), default_value=None, dtype=tf.float32, normalizer_fn=None), NumericColumn(key='PetalWidth', shape=(1,), default_value=None, dtype=tf.float32, normalizer_fn=None)]\n"
     ]
    }
   ],
   "source": [
    "# Feature columns describe how to use the input.\n",
    "my_feature_columns = []\n",
    "for key in train.keys():\n",
    "    my_feature_columns.append(tf.feature_column.numeric_column(key=key))\n",
    "print(my_feature_columns)"
   ]
  },
  {
   "cell_type": "code",
   "execution_count": 19,
   "id": "ed2ee1e6-c3b0-4028-b964-5b7ad95cac94",
   "metadata": {},
   "outputs": [
    {
     "name": "stdout",
     "output_type": "stream",
     "text": [
      "INFO:tensorflow:Using default config.\n",
      "WARNING:tensorflow:Using temporary folder as model directory: C:\\Users\\KHADGA~1\\AppData\\Local\\Temp\\tmp0uec7200\n",
      "INFO:tensorflow:Using config: {'_model_dir': 'C:\\\\Users\\\\KHADGA~1\\\\AppData\\\\Local\\\\Temp\\\\tmp0uec7200', '_tf_random_seed': None, '_save_summary_steps': 100, '_save_checkpoints_steps': None, '_save_checkpoints_secs': 600, '_session_config': allow_soft_placement: true\n",
      "graph_options {\n",
      "  rewrite_options {\n",
      "    meta_optimizer_iterations: ONE\n",
      "  }\n",
      "}\n",
      ", '_keep_checkpoint_max': 5, '_keep_checkpoint_every_n_hours': 10000, '_log_step_count_steps': 100, '_train_distribute': None, '_device_fn': None, '_protocol': None, '_eval_distribute': None, '_experimental_distribute': None, '_experimental_max_worker_delay_secs': None, '_session_creation_timeout_secs': 7200, '_checkpoint_save_graph_def': True, '_service': None, '_cluster_spec': ClusterSpec({}), '_task_type': 'worker', '_task_id': 0, '_global_id_in_cluster': 0, '_master': '', '_evaluation_master': '', '_is_chief': True, '_num_ps_replicas': 0, '_num_worker_replicas': 1}\n"
     ]
    }
   ],
   "source": [
    "# Build a DNN with 2 hidden layers with 30 and 10 hidden nodes each.\n",
    "classifier = tf.estimator.DNNClassifier(\n",
    "    feature_columns=my_feature_columns,\n",
    "    # Two hidden layers of 30 and 10 nodes respectively.\n",
    "    hidden_units=[30, 10],\n",
    "    # The model must choose between 3 classes.\n",
    "    n_classes=3)"
   ]
  },
  {
   "cell_type": "code",
   "execution_count": 20,
   "id": "b02f2ae7-5978-4d43-acbd-00e44dedcb31",
   "metadata": {},
   "outputs": [
    {
     "name": "stdout",
     "output_type": "stream",
     "text": [
      "WARNING:tensorflow:From C:\\Users\\KHADGA JYOTH ALLI\\anaconda3\\envs\\tf-gpu\\lib\\site-packages\\tensorflow\\python\\training\\training_util.py:235: Variable.initialized_value (from tensorflow.python.ops.variables) is deprecated and will be removed in a future version.\n",
      "Instructions for updating:\n",
      "Use Variable.read_value. Variables in 2.X are initialized automatically both in eager and graph (inside tf.defun) contexts.\n",
      "INFO:tensorflow:Calling model_fn.\n",
      "WARNING:tensorflow:From C:\\Users\\KHADGA JYOTH ALLI\\anaconda3\\envs\\tf-gpu\\lib\\site-packages\\tensorflow\\python\\keras\\optimizer_v2\\adagrad.py:87: calling Constant.__init__ (from tensorflow.python.ops.init_ops) with dtype is deprecated and will be removed in a future version.\n",
      "Instructions for updating:\n",
      "Call initializer instance with the dtype argument instead of passing it to the constructor\n",
      "INFO:tensorflow:Done calling model_fn.\n",
      "INFO:tensorflow:Create CheckpointSaverHook.\n",
      "INFO:tensorflow:Graph was finalized.\n",
      "INFO:tensorflow:Running local_init_op.\n",
      "INFO:tensorflow:Done running local_init_op.\n",
      "INFO:tensorflow:Calling checkpoint listeners before saving checkpoint 0...\n",
      "INFO:tensorflow:Saving checkpoints for 0 into C:\\Users\\KHADGA~1\\AppData\\Local\\Temp\\tmp0uec7200\\model.ckpt.\n",
      "INFO:tensorflow:Calling checkpoint listeners after saving checkpoint 0...\n",
      "INFO:tensorflow:loss = 1.2171432, step = 0\n",
      "INFO:tensorflow:global_step/sec: 291.494\n",
      "INFO:tensorflow:loss = 1.0836905, step = 100 (0.351 sec)\n",
      "INFO:tensorflow:global_step/sec: 262.954\n",
      "INFO:tensorflow:loss = 1.0499232, step = 200 (0.370 sec)\n",
      "INFO:tensorflow:global_step/sec: 330.456\n",
      "INFO:tensorflow:loss = 1.0094361, step = 300 (0.307 sec)\n",
      "INFO:tensorflow:global_step/sec: 286.1\n",
      "INFO:tensorflow:loss = 0.96095014, step = 400 (0.349 sec)\n",
      "INFO:tensorflow:global_step/sec: 360.101\n",
      "INFO:tensorflow:loss = 0.9199414, step = 500 (0.282 sec)\n",
      "INFO:tensorflow:global_step/sec: 284.585\n",
      "INFO:tensorflow:loss = 0.8042612, step = 600 (0.347 sec)\n",
      "INFO:tensorflow:global_step/sec: 352.917\n",
      "INFO:tensorflow:loss = 0.7599118, step = 700 (0.283 sec)\n",
      "INFO:tensorflow:global_step/sec: 336.422\n",
      "INFO:tensorflow:loss = 0.7280424, step = 800 (0.297 sec)\n",
      "INFO:tensorflow:global_step/sec: 350.23\n",
      "INFO:tensorflow:loss = 0.6814681, step = 900 (0.286 sec)\n",
      "INFO:tensorflow:global_step/sec: 356.709\n",
      "INFO:tensorflow:loss = 0.6527928, step = 1000 (0.281 sec)\n",
      "INFO:tensorflow:global_step/sec: 294.415\n",
      "INFO:tensorflow:loss = 0.6425908, step = 1100 (0.339 sec)\n",
      "INFO:tensorflow:global_step/sec: 325.478\n",
      "INFO:tensorflow:loss = 0.6216891, step = 1200 (0.304 sec)\n",
      "INFO:tensorflow:global_step/sec: 286.427\n",
      "INFO:tensorflow:loss = 0.60548365, step = 1300 (0.352 sec)\n",
      "INFO:tensorflow:global_step/sec: 325.96\n",
      "INFO:tensorflow:loss = 0.58983725, step = 1400 (0.307 sec)\n",
      "INFO:tensorflow:global_step/sec: 297.766\n",
      "INFO:tensorflow:loss = 0.5674012, step = 1500 (0.336 sec)\n",
      "INFO:tensorflow:global_step/sec: 338.45\n",
      "INFO:tensorflow:loss = 0.5573512, step = 1600 (0.295 sec)\n",
      "INFO:tensorflow:global_step/sec: 346.831\n",
      "INFO:tensorflow:loss = 0.5460283, step = 1700 (0.288 sec)\n",
      "INFO:tensorflow:global_step/sec: 337.128\n",
      "INFO:tensorflow:loss = 0.54822826, step = 1800 (0.309 sec)\n",
      "INFO:tensorflow:global_step/sec: 340.24\n",
      "INFO:tensorflow:loss = 0.53200614, step = 1900 (0.282 sec)\n",
      "INFO:tensorflow:global_step/sec: 350.369\n",
      "INFO:tensorflow:loss = 0.51280177, step = 2000 (0.286 sec)\n",
      "INFO:tensorflow:global_step/sec: 361.019\n",
      "INFO:tensorflow:loss = 0.50811785, step = 2100 (0.288 sec)\n",
      "INFO:tensorflow:global_step/sec: 328.204\n",
      "INFO:tensorflow:loss = 0.5009568, step = 2200 (0.293 sec)\n",
      "INFO:tensorflow:global_step/sec: 375.607\n",
      "INFO:tensorflow:loss = 0.489959, step = 2300 (0.279 sec)\n",
      "INFO:tensorflow:global_step/sec: 324.081\n",
      "INFO:tensorflow:loss = 0.4878233, step = 2400 (0.297 sec)\n",
      "INFO:tensorflow:global_step/sec: 314.139\n",
      "INFO:tensorflow:loss = 0.47714564, step = 2500 (0.326 sec)\n",
      "INFO:tensorflow:global_step/sec: 315.118\n",
      "INFO:tensorflow:loss = 0.46999228, step = 2600 (0.309 sec)\n",
      "INFO:tensorflow:global_step/sec: 339.329\n",
      "INFO:tensorflow:loss = 0.47158808, step = 2700 (0.308 sec)\n",
      "INFO:tensorflow:global_step/sec: 336.126\n",
      "INFO:tensorflow:loss = 0.4560193, step = 2800 (0.284 sec)\n",
      "INFO:tensorflow:global_step/sec: 332.77\n",
      "INFO:tensorflow:loss = 0.45374197, step = 2900 (0.300 sec)\n",
      "INFO:tensorflow:global_step/sec: 348.951\n",
      "INFO:tensorflow:loss = 0.44948518, step = 3000 (0.288 sec)\n",
      "INFO:tensorflow:global_step/sec: 313.292\n",
      "INFO:tensorflow:loss = 0.44253692, step = 3100 (0.319 sec)\n",
      "INFO:tensorflow:global_step/sec: 325.056\n",
      "INFO:tensorflow:loss = 0.45030424, step = 3200 (0.308 sec)\n",
      "INFO:tensorflow:global_step/sec: 364.881\n",
      "INFO:tensorflow:loss = 0.4350309, step = 3300 (0.273 sec)\n",
      "INFO:tensorflow:global_step/sec: 346.023\n",
      "INFO:tensorflow:loss = 0.4301031, step = 3400 (0.290 sec)\n",
      "INFO:tensorflow:global_step/sec: 351.51\n",
      "INFO:tensorflow:loss = 0.4234074, step = 3500 (0.284 sec)\n",
      "INFO:tensorflow:global_step/sec: 336.938\n",
      "INFO:tensorflow:loss = 0.4231761, step = 3600 (0.297 sec)\n",
      "INFO:tensorflow:global_step/sec: 364.457\n",
      "INFO:tensorflow:loss = 0.41814637, step = 3700 (0.277 sec)\n",
      "INFO:tensorflow:global_step/sec: 367.523\n",
      "INFO:tensorflow:loss = 0.41922855, step = 3800 (0.279 sec)\n",
      "INFO:tensorflow:global_step/sec: 349.642\n",
      "INFO:tensorflow:loss = 0.41291595, step = 3900 (0.276 sec)\n",
      "INFO:tensorflow:global_step/sec: 368.358\n",
      "INFO:tensorflow:loss = 0.40219483, step = 4000 (0.268 sec)\n",
      "INFO:tensorflow:global_step/sec: 349.597\n",
      "INFO:tensorflow:loss = 0.4121023, step = 4100 (0.289 sec)\n",
      "INFO:tensorflow:global_step/sec: 349.989\n",
      "INFO:tensorflow:loss = 0.403031, step = 4200 (0.297 sec)\n",
      "INFO:tensorflow:global_step/sec: 346.368\n",
      "INFO:tensorflow:loss = 0.39134294, step = 4300 (0.278 sec)\n",
      "INFO:tensorflow:global_step/sec: 359.177\n",
      "INFO:tensorflow:loss = 0.398551, step = 4400 (0.282 sec)\n",
      "INFO:tensorflow:global_step/sec: 365.535\n",
      "INFO:tensorflow:loss = 0.3940631, step = 4500 (0.267 sec)\n",
      "INFO:tensorflow:global_step/sec: 368.548\n",
      "INFO:tensorflow:loss = 0.38714716, step = 4600 (0.271 sec)\n",
      "INFO:tensorflow:global_step/sec: 361.142\n",
      "INFO:tensorflow:loss = 0.38760176, step = 4700 (0.277 sec)\n",
      "INFO:tensorflow:global_step/sec: 372.784\n",
      "INFO:tensorflow:loss = 0.38767973, step = 4800 (0.273 sec)\n",
      "INFO:tensorflow:global_step/sec: 379.541\n",
      "INFO:tensorflow:loss = 0.3711403, step = 4900 (0.267 sec)\n",
      "INFO:tensorflow:Calling checkpoint listeners before saving checkpoint 5000...\n",
      "INFO:tensorflow:Saving checkpoints for 5000 into C:\\Users\\KHADGA~1\\AppData\\Local\\Temp\\tmp0uec7200\\model.ckpt.\n",
      "INFO:tensorflow:Calling checkpoint listeners after saving checkpoint 5000...\n",
      "INFO:tensorflow:Loss for final step: 0.36431438.\n"
     ]
    },
    {
     "data": {
      "text/plain": [
       "<tensorflow_estimator.python.estimator.canned.dnn.DNNClassifierV2 at 0x2b01b90d250>"
      ]
     },
     "execution_count": 20,
     "metadata": {},
     "output_type": "execute_result"
    }
   ],
   "source": [
    "classifier.train(\n",
    "    input_fn=lambda: input_fn(train, train_y, training=True),\n",
    "    steps=5000)\n",
    "# We include a lambda to avoid creating an inner function previously"
   ]
  },
  {
   "cell_type": "code",
   "execution_count": 21,
   "id": "e78407c0-b842-4ad8-ab7a-28cb79b1fda2",
   "metadata": {},
   "outputs": [
    {
     "name": "stdout",
     "output_type": "stream",
     "text": [
      "INFO:tensorflow:Calling model_fn.\n",
      "INFO:tensorflow:Done calling model_fn.\n",
      "INFO:tensorflow:Starting evaluation at 2021-09-13T19:32:46\n",
      "INFO:tensorflow:Graph was finalized.\n",
      "INFO:tensorflow:Restoring parameters from C:\\Users\\KHADGA~1\\AppData\\Local\\Temp\\tmp0uec7200\\model.ckpt-5000\n",
      "INFO:tensorflow:Running local_init_op.\n",
      "INFO:tensorflow:Done running local_init_op.\n",
      "INFO:tensorflow:Inference Time : 1.02945s\n",
      "INFO:tensorflow:Finished evaluation at 2021-09-13-19:32:47\n",
      "INFO:tensorflow:Saving dict for global step 5000: accuracy = 0.93333334, average_loss = 0.43819925, global_step = 5000, loss = 0.43819925\n",
      "INFO:tensorflow:Saving 'checkpoint_path' summary for global step 5000: C:\\Users\\KHADGA~1\\AppData\\Local\\Temp\\tmp0uec7200\\model.ckpt-5000\n",
      "\n",
      "Test set accuracy: 0.933\n",
      "\n"
     ]
    }
   ],
   "source": [
    "eval_result = classifier.evaluate(\n",
    "    input_fn=lambda: input_fn(test, test_y, training=False))\n",
    "\n",
    "print('\\nTest set accuracy: {accuracy:0.3f}\\n'.format(**eval_result))"
   ]
  },
  {
   "cell_type": "code",
   "execution_count": 23,
   "id": "30e0cb34-85c6-42ee-8749-483f33895d7d",
   "metadata": {},
   "outputs": [
    {
     "name": "stdout",
     "output_type": "stream",
     "text": [
      "Please type numeric values as prompted.\n"
     ]
    },
    {
     "name": "stdin",
     "output_type": "stream",
     "text": [
      "SepalLength:  23\n",
      "SepalLength:  12\n",
      "SepalLength:  12\n",
      "SepalLength:  2\n",
      "SepalLength:  5\n",
      "SepalLength:  6\n",
      "SepalLength:  0.2\n",
      "SepalWidth:  .5\n",
      "PetalLength:  .6\n",
      "PetalWidth:  .3\n"
     ]
    },
    {
     "name": "stdout",
     "output_type": "stream",
     "text": [
      "INFO:tensorflow:Calling model_fn.\n",
      "INFO:tensorflow:Done calling model_fn.\n",
      "INFO:tensorflow:Graph was finalized.\n",
      "INFO:tensorflow:Restoring parameters from C:\\Users\\KHADGA~1\\AppData\\Local\\Temp\\tmp0uec7200\\model.ckpt-5000\n",
      "INFO:tensorflow:Running local_init_op.\n",
      "INFO:tensorflow:Done running local_init_op.\n",
      "Prediction is \"Versicolor\" (38.3%)\n"
     ]
    }
   ],
   "source": [
    "def input_fn(features, batch_size=256):\n",
    "    # Convert the inputs to a Dataset without labels.\n",
    "    return tf.data.Dataset.from_tensor_slices(dict(features)).batch(batch_size)\n",
    "\n",
    "features = ['SepalLength', 'SepalWidth', 'PetalLength', 'PetalWidth']\n",
    "predict = {}\n",
    "\n",
    "print(\"Please type numeric values as prompted.\")\n",
    "for feature in features:\n",
    "  valid = True\n",
    "  while valid: \n",
    "    val = input(feature + \": \")\n",
    "    if not val.isdigit(): valid = False\n",
    "\n",
    "  predict[feature] = [float(val)]\n",
    "\n",
    "predictions = classifier.predict(input_fn=lambda: input_fn(predict))\n",
    "for pred_dict in predictions:\n",
    "    class_id = pred_dict['class_ids'][0]\n",
    "    probability = pred_dict['probabilities'][class_id]\n",
    "\n",
    "    print('Prediction is \"{}\" ({:.1f}%)'.format(\n",
    "        SPECIES[class_id], 100 * probability))\n"
   ]
  },
  {
   "cell_type": "code",
   "execution_count": 24,
   "id": "3451e4ef-c6e7-4173-acea-4bae62859b6d",
   "metadata": {},
   "outputs": [],
   "source": [
    "# Here is some example input and expected classes you can try above\n",
    "expected = ['Setosa', 'Versicolor', 'Virginica']\n",
    "predict_x = {\n",
    "    'SepalLength': [5.1, 5.9, 6.9],\n",
    "    'SepalWidth': [3.3, 3.0, 3.1],\n",
    "    'PetalLength': [1.7, 4.2, 5.4],\n",
    "    'PetalWidth': [0.5, 1.5, 2.1],\n",
    "}"
   ]
  },
  {
   "cell_type": "code",
   "execution_count": null,
   "id": "efd20b31-b8ff-41bb-a153-2d6a45aa18bf",
   "metadata": {},
   "outputs": [],
   "source": []
  }
 ],
 "metadata": {
  "kernelspec": {
   "display_name": "Python 3 (ipykernel)",
   "language": "python",
   "name": "python3"
  },
  "language_info": {
   "codemirror_mode": {
    "name": "ipython",
    "version": 3
   },
   "file_extension": ".py",
   "mimetype": "text/x-python",
   "name": "python",
   "nbconvert_exporter": "python",
   "pygments_lexer": "ipython3",
   "version": "3.9.7"
  }
 },
 "nbformat": 4,
 "nbformat_minor": 5
}
