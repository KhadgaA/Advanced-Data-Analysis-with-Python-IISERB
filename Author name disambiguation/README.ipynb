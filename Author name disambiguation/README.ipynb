{
 "cells": [
  {
   "cell_type": "markdown",
   "id": "9ebe0b85-ced6-4094-8c97-4b606374dbc7",
   "metadata": {
    "jp-MarkdownHeadingCollapsed": true,
    "tags": []
   },
   "source": [
    "## Things to improve\n",
    "> Convertion of 'string' dtypes to one-hot vectors is      very inefficient.\n",
    "> > For Ex: Converting a Title to one hot vector just gives a array without any information of what the title meant.\n",
    "> - One other way to do this more efficiently and keep the semantic relationship between the words of title is by using word2vec.\n",
    "> > This will keep all the semantic relations and will give more accurate results when trained with a CNN.\n",
    "    - Learn more about tf and its algorithms.\n",
    "## Things to do differently\n",
    ">  Classifying each author at a time without any semantic relation between all the authors is not the way forward.\n",
    "> - One way is to make a semantic map of given data. \n",
    ">> which will provide us with the crude relations between authors and then we will train our model on that. It will be easier and more efficient for a neural network to learn the patterns.\n",
    ">  - Other way can be converting the given data into images and then classfying.\n",
    "      - This way is also more efficient but very hard.\n",
    "      - The images captures all the necessary information including title, authors, years etc.. \n",
    "      - This will make the images of more related athors more similar and will be easy to train.     \n",
    "      - Problem with this implementation:\n",
    "    >> - This method requires unsupervised classification of images, which is hard to really get into right now.\n",
    "   >>- Paper [Unsupervised Img Classification](https://github.com/wvangansbeke/Unsupervised-Classification)\n",
    "                    \n",
    "## Things learned:\n",
    "- usage of numpy, pandas, and other useful libraries\n",
    "- Basics of tensorflow\n",
    "- Understading ontologies\n",
    "\n",
    "## Things to learn: \n",
    "- word2vec\n",
    "- ontology\n",
    "- tensorflow/ pytorch / sklearn\n",
    "\n",
    "\n",
    "## Resources / References:\n",
    "- author name disambuguation\n",
    "    - [ADANA](https://www.aminer.org/disambiguation)\n",
    "    - [S2AND](https://github.com/allenai/S2AND)\n",
    "    - [Unsupervised Author Disambiguation using Heterogeneous Graph Convolutional Network Embedding](https://github.com/joe817/name-disambiguation)\n",
    "    - [RandomForestClassifierCV](https://github.com/diging/author-disambiguation)\n",
    "- [tensorflow](https://www.tensorflow.org/tutorials)\n",
    "- [Unsupervised image classification](https://github.com/wvangansbeke/Unsupervised-Classification)\n"
   ]
  },
  {
   "cell_type": "code",
   "execution_count": null,
   "id": "b71a450f-2504-4abc-b4d0-d6d8b7da1751",
   "metadata": {},
   "outputs": [],
   "source": []
  }
 ],
 "metadata": {
  "kernelspec": {
   "display_name": "Python 3 (ipykernel)",
   "language": "python",
   "name": "python3"
  },
  "language_info": {
   "codemirror_mode": {
    "name": "ipython",
    "version": 3
   },
   "file_extension": ".py",
   "mimetype": "text/x-python",
   "name": "python",
   "nbconvert_exporter": "python",
   "pygments_lexer": "ipython3",
   "version": "3.9.7"
  }
 },
 "nbformat": 4,
 "nbformat_minor": 5
}
