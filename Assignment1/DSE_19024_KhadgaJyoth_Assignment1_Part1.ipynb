{
 "cells": [
  {
   "cell_type": "code",
   "execution_count": 4,
   "id": "1a374553-807b-4e3f-ac1b-631f7f26b61a",
   "metadata": {},
   "outputs": [],
   "source": [
    "import random as rand"
   ]
  },
  {
   "cell_type": "markdown",
   "id": "da0f426c-928b-460a-b122-5f9ba7eae02d",
   "metadata": {},
   "source": [
    "## Excercise 1"
   ]
  },
  {
   "cell_type": "code",
   "execution_count": 3,
   "id": "370bd092-7c01-46c7-921a-bdf70aa67dbf",
   "metadata": {},
   "outputs": [
    {
     "name": "stdin",
     "output_type": "stream",
     "text": [
      "your name: akj\n",
      "your company: ii\n"
     ]
    },
    {
     "name": "stdout",
     "output_type": "stream",
     "text": [
      "Looks like someone's new here\n"
     ]
    }
   ],
   "source": [
    "name = input(\"your name:\")\n",
    "company = input(\"your company:\")\n",
    "def_name = \"khadga\"\n",
    "def_comp = \"iiserb\"\n",
    "outputs = [\n",
    "    'Hey! its me, you',\n",
    "    'Looks like someone\\'s new here',\n",
    "    'Your company has a great employee with a great name',\n",
    "    'You and I must me colleagues then.'\n",
    "]\n",
    "\n",
    "if name == def_name:\n",
    "    if company == def_comp: print(outputs[0])\n",
    "    else:print(outputs[2])\n",
    "elif company == def_comp: print(outputs[3])\n",
    "else:print(outputs[1])\n",
    "     "
   ]
  },
  {
   "cell_type": "markdown",
   "id": "642a817a-4eae-43b6-9c52-f88ec8fe824e",
   "metadata": {},
   "source": [
    "## Excercise 2"
   ]
  },
  {
   "cell_type": "code",
   "execution_count": 13,
   "id": "1239bb1a-65c8-467e-b050-e7aadb8e7ba3",
   "metadata": {},
   "outputs": [
    {
     "name": "stdin",
     "output_type": "stream",
     "text": [
      "guess the number 50\n"
     ]
    },
    {
     "name": "stdout",
     "output_type": "stream",
     "text": [
      "Too low!\n"
     ]
    },
    {
     "name": "stdin",
     "output_type": "stream",
     "text": [
      "guess the number 80\n"
     ]
    },
    {
     "name": "stdout",
     "output_type": "stream",
     "text": [
      "Too High!\n"
     ]
    },
    {
     "name": "stdin",
     "output_type": "stream",
     "text": [
      "guess the number 60\n"
     ]
    },
    {
     "name": "stdout",
     "output_type": "stream",
     "text": [
      "Too low!\n"
     ]
    },
    {
     "name": "stdin",
     "output_type": "stream",
     "text": [
      "guess the number 70\n"
     ]
    },
    {
     "name": "stdout",
     "output_type": "stream",
     "text": [
      "Too High!\n"
     ]
    },
    {
     "name": "stdin",
     "output_type": "stream",
     "text": [
      "guess the number 65\n"
     ]
    },
    {
     "name": "stdout",
     "output_type": "stream",
     "text": [
      "Too High!\n"
     ]
    },
    {
     "name": "stdin",
     "output_type": "stream",
     "text": [
      "guess the number 62\n"
     ]
    },
    {
     "name": "stdout",
     "output_type": "stream",
     "text": [
      "Too low!\n"
     ]
    },
    {
     "name": "stdin",
     "output_type": "stream",
     "text": [
      "guess the number 63\n"
     ]
    },
    {
     "name": "stdout",
     "output_type": "stream",
     "text": [
      "Too low!\n"
     ]
    },
    {
     "name": "stdin",
     "output_type": "stream",
     "text": [
      "guess the number 64\n"
     ]
    },
    {
     "name": "stdout",
     "output_type": "stream",
     "text": [
      "You got it!\n"
     ]
    }
   ],
   "source": [
    "num = rand.randint(0,100)\n",
    "def guess(num,usr_num = None):\n",
    "    usr_num  = int(input(\"guess the number\"))\n",
    "    if usr_num > num:\n",
    "        print(\"Too High!\")\n",
    "        guess(num)\n",
    "    elif usr_num<num:\n",
    "        print(\"Too low!\")\n",
    "        guess(num)\n",
    "    else:\n",
    "        print(\"You got it!\")\n",
    "        return\n",
    "    \n",
    "guess(num)\n",
    "    "
   ]
  },
  {
   "cell_type": "markdown",
   "id": "8df249e7-ce10-4e06-9140-afcf77e61e8e",
   "metadata": {},
   "source": [
    "## Excercise 3"
   ]
  },
  {
   "cell_type": "code",
   "execution_count": 19,
   "id": "936de995-8f03-41d8-bdfe-74a9dac80dd5",
   "metadata": {},
   "outputs": [
    {
     "name": "stdin",
     "output_type": "stream",
     "text": [
      "Enter a word with no punctuation : away\n"
     ]
    },
    {
     "name": "stdout",
     "output_type": "stream",
     "text": [
      "awayway\n"
     ]
    }
   ],
   "source": [
    "word = input(\"Enter a word with no punctuation :\").lower()\n",
    "vowels = (\"a\",\"e\",\"i\",\"o\",\"u\")\n",
    "if word[0] in vowels:\n",
    "    word+='way'\n",
    "else:word = word[1:]+word[0]+'ay'\n",
    "print(word)"
   ]
  },
  {
   "cell_type": "markdown",
   "id": "72c40e16-9f34-4aa0-bd92-06a29f95495e",
   "metadata": {},
   "source": [
    "## Excercise 4"
   ]
  },
  {
   "cell_type": "code",
   "execution_count": 31,
   "id": "aad713cb-7ec3-4ef3-941d-22d025dabf67",
   "metadata": {},
   "outputs": [
    {
     "name": "stdin",
     "output_type": "stream",
     "text": [
      "Give a number: 2\n",
      "Enter your name iiserb\n"
     ]
    }
   ],
   "source": [
    "numb = int(input(\"Give a number:\"))\n",
    "names = input(\"Enter your name\")"
   ]
  },
  {
   "cell_type": "markdown",
   "id": "f61ebcc6-d607-417c-b084-1d2ce90581e7",
   "metadata": {},
   "source": [
    "### 1"
   ]
  },
  {
   "cell_type": "code",
   "execution_count": 32,
   "id": "cd7a86cb-fa1a-4fd6-85f8-9eeb4c6b4328",
   "metadata": {},
   "outputs": [
    {
     "name": "stdout",
     "output_type": "stream",
     "text": [
      "iiserb\n",
      "iiserb\n"
     ]
    }
   ],
   "source": [
    "for i in range (numb):print(names)"
   ]
  },
  {
   "cell_type": "markdown",
   "id": "9c899694-6568-4921-bd22-4f4eb591a45f",
   "metadata": {},
   "source": [
    "### 2"
   ]
  },
  {
   "cell_type": "code",
   "execution_count": 34,
   "id": "196d142e-8689-4a17-beac-9e1bdd4ab503",
   "metadata": {},
   "outputs": [
    {
     "name": "stdout",
     "output_type": "stream",
     "text": [
      "i\n",
      "ii\n",
      "iis\n",
      "iise\n",
      "iiser\n",
      "iiserb\n"
     ]
    }
   ],
   "source": [
    "for i in range(len(names)):print(names[:i+1])"
   ]
  },
  {
   "cell_type": "markdown",
   "id": "2b7f180d-ae31-4ebb-a5c2-261d368591a3",
   "metadata": {},
   "source": [
    "## Excercise 5"
   ]
  },
  {
   "cell_type": "code",
   "execution_count": 42,
   "id": "99356cfa-cdb0-4007-849f-0755182acfb9",
   "metadata": {},
   "outputs": [
    {
     "name": "stdin",
     "output_type": "stream",
     "text": [
      "Order: tea\n"
     ]
    },
    {
     "name": "stdout",
     "output_type": "stream",
     "text": [
      "tea is 5, total : 5\n"
     ]
    },
    {
     "name": "stdin",
     "output_type": "stream",
     "text": [
      "Order: burger\n"
     ]
    },
    {
     "name": "stdout",
     "output_type": "stream",
     "text": [
      "burger is 25, total : 30\n"
     ]
    },
    {
     "name": "stdin",
     "output_type": "stream",
     "text": [
      "Order: \n"
     ]
    },
    {
     "name": "stdout",
     "output_type": "stream",
     "text": [
      "Your total is : 30\n"
     ]
    }
   ],
   "source": [
    "menu  = {\n",
    "    \"sandwitch\": 10,\"tea\":5,\"burger\":25,\"soda\":20,\"chicken\":50,\"noodles\":30,\"pizza\":60\n",
    "}\n",
    "total = 0\n",
    "while True:\n",
    "    order = input(\"Order:\")\n",
    "    if order == '':\n",
    "        print(\"Your total is :\",total)\n",
    "        break\n",
    "    elif order in menu:\n",
    "        total += menu[order]\n",
    "        print(f'{order} is {menu[order]}, total : {total}')\n",
    "    else:print(f\"sorry {order} is not in our menu\")"
   ]
  },
  {
   "cell_type": "markdown",
   "id": "6898bc2d-00da-476d-857a-75f728ac0f77",
   "metadata": {},
   "source": [
    "## Excercise 6"
   ]
  },
  {
   "cell_type": "code",
   "execution_count": 2,
   "id": "b78d3fbe-bcd7-48c8-889c-c02e483dd1d9",
   "metadata": {},
   "outputs": [
    {
     "name": "stdin",
     "output_type": "stream",
     "text": [
      "Enter a city : bhopal\n",
      "We dont have that city in our database.\n",
      " Please Enter the rainfall in mm:  5\n"
     ]
    },
    {
     "name": "stdout",
     "output_type": "stream",
     "text": [
      "City : Bhopal\n",
      " Rain : 5\n"
     ]
    },
    {
     "name": "stdin",
     "output_type": "stream",
     "text": [
      "Enter a city : \n"
     ]
    },
    {
     "name": "stdout",
     "output_type": "stream",
     "text": [
      "{'Bhopal': 5}\n"
     ]
    }
   ],
   "source": [
    "# rain = [rand.randint(1,10) for i in range(5)]\n",
    "# rainfall = {\"Bhopal\":rain[0],\"Chennai\":rain[1],\"Delhi\":rain[2],\"Mumbai\":rain[3],\"Hyderabad\":rain[4]}\n",
    "rainfall = {}\n",
    "while True:\n",
    "    city = input(\"Enter a city :\").title()\n",
    "    if city == '':\n",
    "        print(rainfall)\n",
    "        break\n",
    "    elif city in rainfall :\n",
    "        rain = int(input('Enter the rainfall in mm:'))\n",
    "        rainfall[city] += rain\n",
    "        print(f'City : {city}\\n Rain : {rainfall[city]}')\n",
    "    else:\n",
    "        rain = int(input(\"We dont have that city in our database.\\n Please Enter the rainfall in mm: \"))\n",
    "        rainfall[city] = rain\n",
    "        print(f'City : {city}\\n Rain : {rainfall[city]}')\n",
    "        "
   ]
  },
  {
   "cell_type": "markdown",
   "id": "7cb7b4fc-3d19-4a91-a8bc-964bce1c1d86",
   "metadata": {},
   "source": [
    "## Excercise 7"
   ]
  },
  {
   "cell_type": "code",
   "execution_count": 69,
   "id": "8e5169d6-7b7f-4397-b72d-e2f02452620d",
   "metadata": {},
   "outputs": [
    {
     "name": "stdin",
     "output_type": "stream",
     "text": [
      "Number 1:  2\n",
      "Number 2:  2\n",
      "enter an operator(e.g: '+'/'-') :  +\n"
     ]
    },
    {
     "data": {
      "text/plain": [
       "4"
      ]
     },
     "execution_count": 69,
     "metadata": {},
     "output_type": "execute_result"
    }
   ],
   "source": [
    "def calc(x = None,y = None, op = None):\n",
    "    if x==None and y == None and op == None:\n",
    "        x = int(input(\"Number 1: \"))\n",
    "        y = int(input(\"Number 2: \"))\n",
    "        op = input(\"enter an operator(e.g: '+'/'-') : \")\n",
    "    if op =='+':return x + y\n",
    "    elif op == '-': return x-y\n",
    "    else : return \"operator not defined\"\n",
    "calc()"
   ]
  },
  {
   "cell_type": "code",
   "execution_count": 71,
   "id": "d5cb7392-afd7-4f74-9298-67d1b3ff1b25",
   "metadata": {},
   "outputs": [
    {
     "name": "stdout",
     "output_type": "stream",
     "text": [
      "15\n",
      "17\n"
     ]
    }
   ],
   "source": [
    "print(calc(5, 10, '+'))\n",
    "print(calc(35, 18, '-'))"
   ]
  },
  {
   "cell_type": "markdown",
   "id": "2d17176b-1b35-4128-ad49-0206ccff2934",
   "metadata": {},
   "source": [
    "## Excercise 8"
   ]
  },
  {
   "cell_type": "code",
   "execution_count": 80,
   "id": "16c893a1-95a5-4aaa-aaf8-e060947ff6c3",
   "metadata": {},
   "outputs": [],
   "source": [
    "def biggest_and_smallest(numl):\n",
    "    smallest,biggest = numl[0],numl[0]\n",
    "    for num in numl:\n",
    "        if num<smallest:smallest = num\n",
    "        if num>biggest: biggest = num\n",
    "    return smallest,biggest"
   ]
  },
  {
   "cell_type": "code",
   "execution_count": 81,
   "id": "7bdb8617-e011-44a9-a04d-b2432522ae1c",
   "metadata": {},
   "outputs": [
    {
     "data": {
      "text/plain": [
       "(12, 102)"
      ]
     },
     "execution_count": 81,
     "metadata": {},
     "output_type": "execute_result"
    }
   ],
   "source": [
    "biggest_and_smallest([53, 22, 97, 102, 15, 17, 12])"
   ]
  },
  {
   "cell_type": "code",
   "execution_count": 82,
   "id": "1e3826b5-4e78-4373-825c-35cde4897690",
   "metadata": {},
   "outputs": [],
   "source": [
    "def biggest_and_smallest(*numl):\n",
    "    smallest,biggest = numl[0],numl[0]\n",
    "    for num in numl:\n",
    "        if num<smallest:smallest = num\n",
    "        if num>biggest: biggest = num\n",
    "    return smallest,biggest"
   ]
  },
  {
   "cell_type": "code",
   "execution_count": 83,
   "id": "174d6f05-7943-4cfa-8f4a-0b852578efe1",
   "metadata": {},
   "outputs": [
    {
     "data": {
      "text/plain": [
       "(12, 102)"
      ]
     },
     "execution_count": 83,
     "metadata": {},
     "output_type": "execute_result"
    }
   ],
   "source": [
    "biggest_and_smallest(53, 22, 97, 102, 15, 17, 12)"
   ]
  },
  {
   "cell_type": "code",
   "execution_count": null,
   "id": "f90159c9-9c7d-400e-a67e-3344d76cc042",
   "metadata": {},
   "outputs": [],
   "source": []
  }
 ],
 "metadata": {
  "kernelspec": {
   "display_name": "Python 3 (ipykernel)",
   "language": "python",
   "name": "python3"
  },
  "language_info": {
   "codemirror_mode": {
    "name": "ipython",
    "version": 3
   },
   "file_extension": ".py",
   "mimetype": "text/x-python",
   "name": "python",
   "nbconvert_exporter": "python",
   "pygments_lexer": "ipython3",
   "version": "3.8.8"
  }
 },
 "nbformat": 4,
 "nbformat_minor": 5
}
