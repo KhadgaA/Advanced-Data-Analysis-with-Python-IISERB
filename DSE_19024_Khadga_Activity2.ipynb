{
 "cells": [
  {
   "cell_type": "markdown",
   "id": "117e2cd1",
   "metadata": {},
   "source": [
    "# Activity 2\n",
    "## Department - DSE\n",
    "### Roll.No - 19024\n",
    "### Name - Alli Khadga Jyoth"
   ]
  },
  {
   "cell_type": "markdown",
   "id": "4e53916f",
   "metadata": {},
   "source": [
    "## Excercise 1"
   ]
  },
  {
   "cell_type": "code",
   "execution_count": 1,
   "id": "7735a995",
   "metadata": {},
   "outputs": [
    {
     "data": {
      "text/plain": [
       "True"
      ]
     },
     "execution_count": 1,
     "metadata": {},
     "output_type": "execute_result"
    }
   ],
   "source": [
    "'a'<'s'"
   ]
  },
  {
   "cell_type": "code",
   "execution_count": 2,
   "id": "99122a83",
   "metadata": {},
   "outputs": [
    {
     "data": {
      "text/plain": [
       "False"
      ]
     },
     "execution_count": 2,
     "metadata": {},
     "output_type": "execute_result"
    }
   ],
   "source": [
    "'Bombay'>'Mumbai'"
   ]
  },
  {
   "cell_type": "markdown",
   "id": "2002eec2",
   "metadata": {},
   "source": [
    "## Excercise 2"
   ]
  },
  {
   "cell_type": "code",
   "execution_count": 4,
   "id": "b518954f",
   "metadata": {},
   "outputs": [],
   "source": [
    "bookstore= 'City Lights'"
   ]
  },
  {
   "cell_type": "code",
   "execution_count": 5,
   "id": "55b4dcc2",
   "metadata": {},
   "outputs": [
    {
     "ename": "SyntaxError",
     "evalue": "EOL while scanning string literal (Temp/ipykernel_9284/2747506218.py, line 1)",
     "output_type": "error",
     "traceback": [
      "\u001b[1;36m  File \u001b[1;32m\"C:\\Users\\KHADGA~1\\AppData\\Local\\Temp/ipykernel_9284/2747506218.py\"\u001b[1;36m, line \u001b[1;32m1\u001b[0m\n\u001b[1;33m    bookstore = 'City Lights\"\u001b[0m\n\u001b[1;37m                             ^\u001b[0m\n\u001b[1;31mSyntaxError\u001b[0m\u001b[1;31m:\u001b[0m EOL while scanning string literal\n"
     ]
    }
   ],
   "source": [
    "bookstore = 'City Lights\""
   ]
  },
  {
   "cell_type": "code",
   "execution_count": 6,
   "id": "bf980dd4",
   "metadata": {},
   "outputs": [],
   "source": [
    "bookstore = \"Moe's\""
   ]
  },
  {
   "cell_type": "code",
   "execution_count": 7,
   "id": "0f250810",
   "metadata": {},
   "outputs": [
    {
     "ename": "SyntaxError",
     "evalue": "invalid syntax (Temp/ipykernel_9284/1828586958.py, line 1)",
     "output_type": "error",
     "traceback": [
      "\u001b[1;36m  File \u001b[1;32m\"C:\\Users\\KHADGA~1\\AppData\\Local\\Temp/ipykernel_9284/1828586958.py\"\u001b[1;36m, line \u001b[1;32m1\u001b[0m\n\u001b[1;33m    bookstore =' Moe's'\u001b[0m\n\u001b[1;37m                     ^\u001b[0m\n\u001b[1;31mSyntaxError\u001b[0m\u001b[1;31m:\u001b[0m invalid syntax\n"
     ]
    }
   ],
   "source": [
    "bookstore =' Moe's'"
   ]
  },
  {
   "cell_type": "markdown",
   "id": "fc4c9adb",
   "metadata": {},
   "source": [
    "## Excercise 3"
   ]
  },
  {
   "cell_type": "code",
   "execution_count": 8,
   "id": "d95dc559",
   "metadata": {},
   "outputs": [],
   "source": [
    "greet = 'greeting'"
   ]
  },
  {
   "cell_type": "code",
   "execution_count": 9,
   "id": "3fac2ea6",
   "metadata": {},
   "outputs": [
    {
     "name": "stdout",
     "output_type": "stream",
     "text": [
      "greeting\n"
     ]
    }
   ],
   "source": [
    "print(greet)"
   ]
  },
  {
   "cell_type": "code",
   "execution_count": 10,
   "id": "8167e4b4",
   "metadata": {},
   "outputs": [
    {
     "data": {
      "text/plain": [
       "'greeting'"
      ]
     },
     "execution_count": 10,
     "metadata": {},
     "output_type": "execute_result"
    }
   ],
   "source": [
    "greet"
   ]
  },
  {
   "cell_type": "code",
   "execution_count": 11,
   "id": "a598cee5",
   "metadata": {},
   "outputs": [],
   "source": [
    "spanish_greeting = 'Hola.'\n",
    "spanish_greeting\n",
    "arabic_greeting = 'Ahlan wa sahlan.'"
   ]
  },
  {
   "cell_type": "code",
   "execution_count": 12,
   "id": "544a030f",
   "metadata": {},
   "outputs": [
    {
     "name": "stdout",
     "output_type": "stream",
     "text": [
      "Hola.\n"
     ]
    }
   ],
   "source": [
    "spanish_greeting = 'Hola.'\n",
    "print(spanish_greeting)"
   ]
  },
  {
   "cell_type": "code",
   "execution_count": 13,
   "id": "5cb514c9",
   "metadata": {},
   "outputs": [
    {
     "name": "stdout",
     "output_type": "stream",
     "text": [
      "Ahlan wa sahlan.\n"
     ]
    }
   ],
   "source": [
    "arabic_greeting = 'Ahlan wa sahlan.'\n",
    "print(arabic_greeting)"
   ]
  },
  {
   "cell_type": "markdown",
   "id": "255ac7d5",
   "metadata": {},
   "source": [
    "## Excercise 4"
   ]
  },
  {
   "cell_type": "code",
   "execution_count": 14,
   "id": "a741c49c",
   "metadata": {},
   "outputs": [
    {
     "name": "stdout",
     "output_type": "stream",
     "text": [
      "HolaSenor.\n"
     ]
    }
   ],
   "source": [
    "spanish_greeting = 'Hola'\n",
    "print(spanish_greeting + 'Senor.')"
   ]
  },
  {
   "cell_type": "code",
   "execution_count": 19,
   "id": "d2d336f0",
   "metadata": {},
   "outputs": [
    {
     "name": "stdout",
     "output_type": "stream",
     "text": [
      "Hola Senor.\n"
     ]
    }
   ],
   "source": [
    "print(spanish_greeting + ' Senor.')"
   ]
  },
  {
   "cell_type": "code",
   "execution_count": 17,
   "id": "ea3f14d0",
   "metadata": {},
   "outputs": [
    {
     "data": {
      "text/plain": [
       "'HelloHelloHelloHelloHello'"
      ]
     },
     "execution_count": 17,
     "metadata": {},
     "output_type": "execute_result"
    }
   ],
   "source": [
    "greeting = 'Hello' *5\n",
    "greeting"
   ]
  },
  {
   "cell_type": "markdown",
   "id": "fccb1514",
   "metadata": {},
   "source": [
    "## Excercise 5"
   ]
  },
  {
   "cell_type": "code",
   "execution_count": 21,
   "id": "2cc0c083",
   "metadata": {},
   "outputs": [],
   "source": [
    "name = 'akj'"
   ]
  },
  {
   "cell_type": "code",
   "execution_count": 22,
   "id": "e9c09873",
   "metadata": {},
   "outputs": [
    {
     "data": {
      "text/plain": [
       "'akj'"
      ]
     },
     "execution_count": 22,
     "metadata": {},
     "output_type": "execute_result"
    }
   ],
   "source": [
    "name.lower()"
   ]
  },
  {
   "cell_type": "code",
   "execution_count": 24,
   "id": "892e7b2b",
   "metadata": {},
   "outputs": [
    {
     "data": {
      "text/plain": [
       "'Akj'"
      ]
     },
     "execution_count": 24,
     "metadata": {},
     "output_type": "execute_result"
    }
   ],
   "source": [
    "name.capitalize()"
   ]
  },
  {
   "cell_type": "code",
   "execution_count": 25,
   "id": "8e35dde2",
   "metadata": {},
   "outputs": [
    {
     "data": {
      "text/plain": [
       "'AKJ'"
      ]
     },
     "execution_count": 25,
     "metadata": {},
     "output_type": "execute_result"
    }
   ],
   "source": [
    "name.upper()"
   ]
  },
  {
   "cell_type": "code",
   "execution_count": 26,
   "id": "0da0a2e2",
   "metadata": {},
   "outputs": [
    {
     "data": {
      "text/plain": [
       "1"
      ]
     },
     "execution_count": 26,
     "metadata": {},
     "output_type": "execute_result"
    }
   ],
   "source": [
    "name.count('a')"
   ]
  },
  {
   "cell_type": "markdown",
   "id": "94765af8",
   "metadata": {},
   "source": [
    "## Excercise 6"
   ]
  },
  {
   "cell_type": "code",
   "execution_count": 27,
   "id": "d4a62990",
   "metadata": {},
   "outputs": [
    {
     "data": {
      "text/plain": [
       "'e'"
      ]
     },
     "execution_count": 27,
     "metadata": {},
     "output_type": "execute_result"
    }
   ],
   "source": [
    "'Hello, world'[1]"
   ]
  },
  {
   "cell_type": "code",
   "execution_count": 28,
   "id": "fa877c9f",
   "metadata": {},
   "outputs": [
    {
     "data": {
      "text/plain": [
       "'Hello'"
      ]
     },
     "execution_count": 28,
     "metadata": {},
     "output_type": "execute_result"
    }
   ],
   "source": [
    "'Hello, world!'[0:5]"
   ]
  },
  {
   "cell_type": "code",
   "execution_count": 32,
   "id": "1f6de5f8",
   "metadata": {},
   "outputs": [
    {
     "data": {
      "text/plain": [
       "'ello, wor'"
      ]
     },
     "execution_count": 32,
     "metadata": {},
     "output_type": "execute_result"
    }
   ],
   "source": [
    "'Hello, world'[1:10]"
   ]
  },
  {
   "cell_type": "code",
   "execution_count": 33,
   "id": "c900ec3c",
   "metadata": {},
   "outputs": [
    {
     "data": {
      "text/plain": [
       "'lo, world'"
      ]
     },
     "execution_count": 33,
     "metadata": {},
     "output_type": "execute_result"
    }
   ],
   "source": [
    "'Hello, world'[3:]"
   ]
  },
  {
   "cell_type": "markdown",
   "id": "e50ba16d",
   "metadata": {},
   "source": [
    "## Excercise 7"
   ]
  },
  {
   "cell_type": "code",
   "execution_count": 35,
   "id": "3a7ed96e",
   "metadata": {},
   "outputs": [
    {
     "data": {
      "text/plain": [
       "str"
      ]
     },
     "execution_count": 35,
     "metadata": {},
     "output_type": "execute_result"
    }
   ],
   "source": [
    "type('5')"
   ]
  },
  {
   "cell_type": "code",
   "execution_count": 36,
   "id": "edfdd1f3",
   "metadata": {},
   "outputs": [
    {
     "data": {
      "text/plain": [
       "'57'"
      ]
     },
     "execution_count": 36,
     "metadata": {},
     "output_type": "execute_result"
    }
   ],
   "source": [
    "'5'+'7'"
   ]
  },
  {
   "cell_type": "code",
   "execution_count": 37,
   "id": "ef67449a",
   "metadata": {},
   "outputs": [
    {
     "data": {
      "text/plain": [
       "5"
      ]
     },
     "execution_count": 37,
     "metadata": {},
     "output_type": "execute_result"
    }
   ],
   "source": [
    "int('5')"
   ]
  },
  {
   "cell_type": "code",
   "execution_count": 39,
   "id": "d6192580",
   "metadata": {},
   "outputs": [
    {
     "data": {
      "text/plain": [
       "12"
      ]
     },
     "execution_count": 39,
     "metadata": {},
     "output_type": "execute_result"
    }
   ],
   "source": [
    "int('5')+int('7')"
   ]
  },
  {
   "cell_type": "markdown",
   "id": "dcd441ef",
   "metadata": {},
   "source": [
    "## Excercise 8"
   ]
  },
  {
   "cell_type": "code",
   "execution_count": 53,
   "id": "da414a28",
   "metadata": {},
   "outputs": [
    {
     "name": "stdout",
     "output_type": "stream",
     "text": [
      "72\n"
     ]
    }
   ],
   "source": [
    "num_a ,num_b = 24,36\n",
    "i=1\n",
    "while True:\n",
    "    \n",
    "    \n",
    "#     print(i)\n",
    "    if i%num_a==0 and i%num_b==0:\n",
    "        print(i)\n",
    "        break\n",
    "    i=i+1"
   ]
  },
  {
   "cell_type": "markdown",
   "id": "9b6b26ea",
   "metadata": {},
   "source": [
    "## Excercise 9"
   ]
  },
  {
   "cell_type": "code",
   "execution_count": 131,
   "id": "170d4f5c",
   "metadata": {},
   "outputs": [
    {
     "name": "stdout",
     "output_type": "stream",
     "text": [
      "enter a number to check if it's a perfec square:-1\n",
      "enter a positive number\n",
      "enter a number to check if it's a perfec square:-1.0\n",
      "enter a positive number\n",
      "enter a number to check if it's a perfec square:\n"
     ]
    }
   ],
   "source": [
    "# num = int(input(\"enter a number to check if it's a perfec square:\"))\n",
    "while True:\n",
    "    try:\n",
    "        num = float(input(\"enter a number to check if it's a perfec square:\"))\n",
    "        \n",
    "        if int(num) == num:\n",
    "            if num<0 :\n",
    "                print(\"enter a positive number\")\n",
    "                num\n",
    "            else:\n",
    "                i =0     \n",
    "                while True:\n",
    "                    if i**2 == num:\n",
    "                      print(\"It is a perfect square, square root is:\",i)\n",
    "                      break  \n",
    "                    elif i > num**0.5:\n",
    "                      print(\"it's not a perfect square\")\n",
    "                      break\n",
    "                    i+=1\n",
    "        else:print(\"number is not a integer\")\n",
    "    except Exception:\n",
    "#         print(\"input not an integer\")\n",
    "        break\n",
    "    \n",
    "                      \n",
    "              "
   ]
  },
  {
   "cell_type": "code",
   "execution_count": 132,
   "id": "7508fb85",
   "metadata": {},
   "outputs": [
    {
     "name": "stdout",
     "output_type": "stream",
     "text": [
      "enter a number to check if it's a perfec square:0\n",
      "number is perfect square, sqrt is: 0\n"
     ]
    }
   ],
   "source": [
    "try:\n",
    "    num = abs(int(input(\"enter a number to check if it's a perfec square:\")))\n",
    "    i = -1\n",
    "    square = False\n",
    "    while i<= num**0.5:\n",
    "        i+=1\n",
    "        if i**2 == num:\n",
    "            square =True\n",
    "            break\n",
    "    if square:\n",
    "        print(\"number is perfect square, sqrt is:\",i)\n",
    "    else:\n",
    "        print(\"number is not a perfect square\")\n",
    "except:print(\"input is not an integer\")\n",
    "\n"
   ]
  },
  {
   "cell_type": "markdown",
   "id": "e1051427",
   "metadata": {},
   "source": [
    "## Excercise 10"
   ]
  },
  {
   "cell_type": "code",
   "execution_count": 92,
   "id": "1398784b",
   "metadata": {},
   "outputs": [
    {
     "name": "stdout",
     "output_type": "stream",
     "text": [
      "I\n",
      "I\n",
      "S\n",
      "E\n",
      "R\n",
      "B\n"
     ]
    }
   ],
   "source": [
    "for i in \"IISERB\":print(i)"
   ]
  },
  {
   "cell_type": "code",
   "execution_count": 133,
   "id": "c5981daa",
   "metadata": {},
   "outputs": [
    {
     "name": "stdout",
     "output_type": "stream",
     "text": [
      "1\n",
      "2\n",
      "3\n",
      "4\n",
      "5\n",
      "6\n",
      "7\n",
      "8\n",
      "9\n"
     ]
    }
   ],
   "source": [
    "for i in range(1,10):print(i)"
   ]
  },
  {
   "cell_type": "code",
   "execution_count": 134,
   "id": "bd4f1e7e",
   "metadata": {},
   "outputs": [
    {
     "name": "stdout",
     "output_type": "stream",
     "text": [
      "0\n",
      "1\n",
      "2\n",
      "3\n",
      "4\n",
      "5\n",
      "6\n",
      "7\n",
      "8\n",
      "9\n"
     ]
    }
   ],
   "source": [
    "for i in range(10):print(i)"
   ]
  },
  {
   "cell_type": "code",
   "execution_count": 147,
   "id": "7c61df80",
   "metadata": {},
   "outputs": [
    {
     "name": "stdout",
     "output_type": "stream",
     "text": [
      "3\n",
      "2\n",
      "1\n"
     ]
    }
   ],
   "source": [
    "for i in range(3,0,-1):print(i)"
   ]
  },
  {
   "cell_type": "code",
   "execution_count": 149,
   "id": "ccd306b7",
   "metadata": {},
   "outputs": [
    {
     "name": "stdout",
     "output_type": "stream",
     "text": [
      "B\n",
      "h\n",
      "o\n",
      "p\n",
      "a\n",
      "l\n",
      "B\n",
      "h\n",
      "o\n",
      "p\n",
      "a\n",
      "l\n",
      "B\n",
      "h\n",
      "o\n",
      "p\n",
      "a\n",
      "l\n"
     ]
    }
   ],
   "source": [
    "city = 'Bhopal'\n",
    "for i in range(3):\n",
    "    for i in city:print(i)"
   ]
  },
  {
   "cell_type": "code",
   "execution_count": null,
   "id": "68e06ce5",
   "metadata": {},
   "outputs": [],
   "source": []
  }
 ],
 "metadata": {
  "kernelspec": {
   "display_name": "Python 3 (ipykernel)",
   "language": "python",
   "name": "python3"
  },
  "language_info": {
   "codemirror_mode": {
    "name": "ipython",
    "version": 3
   },
   "file_extension": ".py",
   "mimetype": "text/x-python",
   "name": "python",
   "nbconvert_exporter": "python",
   "pygments_lexer": "ipython3",
   "version": "3.9.6"
  }
 },
 "nbformat": 4,
 "nbformat_minor": 5
}
