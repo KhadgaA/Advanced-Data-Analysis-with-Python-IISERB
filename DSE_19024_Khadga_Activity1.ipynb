{
 "cells": [
  {
   "cell_type": "markdown",
   "id": "597a182f",
   "metadata": {},
   "source": [
    "# Activity 1"
   ]
  },
  {
   "cell_type": "markdown",
   "id": "1d2000cc",
   "metadata": {},
   "source": [
    "# Department - DSE\n",
    "### Roll.No - 19024\n",
    "### Name - Alli Khadga Jyoth\n"
   ]
  },
  {
   "cell_type": "markdown",
   "id": "8321ba3d",
   "metadata": {},
   "source": [
    "\n",
    "## Excersice 1: integer and Float types"
   ]
  },
  {
   "cell_type": "markdown",
   "id": "d11b8be9",
   "metadata": {},
   "source": [
    "#### 1"
   ]
  },
  {
   "cell_type": "code",
   "execution_count": 1,
   "id": "dc6131eb",
   "metadata": {},
   "outputs": [
    {
     "data": {
      "text/plain": [
       "int"
      ]
     },
     "execution_count": 1,
     "metadata": {},
     "output_type": "execute_result"
    }
   ],
   "source": [
    "type(6)"
   ]
  },
  {
   "cell_type": "markdown",
   "id": "70830543",
   "metadata": {},
   "source": [
    "#### 2"
   ]
  },
  {
   "cell_type": "code",
   "execution_count": 2,
   "id": "58231785",
   "metadata": {},
   "outputs": [
    {
     "data": {
      "text/plain": [
       "float"
      ]
     },
     "execution_count": 2,
     "metadata": {},
     "output_type": "execute_result"
    }
   ],
   "source": [
    "type(6.0)"
   ]
  },
  {
   "cell_type": "markdown",
   "id": "1fba2048",
   "metadata": {},
   "source": [
    "#### 3"
   ]
  },
  {
   "cell_type": "code",
   "execution_count": 3,
   "id": "2876bfed",
   "metadata": {},
   "outputs": [
    {
     "data": {
      "text/plain": [
       "float"
      ]
     },
     "execution_count": 3,
     "metadata": {},
     "output_type": "execute_result"
    }
   ],
   "source": [
    "type(5+3.14)"
   ]
  },
  {
   "cell_type": "markdown",
   "id": "d1367b92",
   "metadata": {},
   "source": [
    "#### 4"
   ]
  },
  {
   "cell_type": "code",
   "execution_count": 4,
   "id": "009da95a",
   "metadata": {},
   "outputs": [
    {
     "name": "stdout",
     "output_type": "stream",
     "text": [
      "7\n"
     ]
    },
    {
     "data": {
      "text/plain": [
       "int"
      ]
     },
     "execution_count": 4,
     "metadata": {},
     "output_type": "execute_result"
    }
   ],
   "source": [
    "print(int(7.999999999))\n",
    "type(int(7.999999999))"
   ]
  },
  {
   "cell_type": "markdown",
   "id": "ad7f814d",
   "metadata": {},
   "source": [
    "#### 5"
   ]
  },
  {
   "cell_type": "code",
   "execution_count": 5,
   "id": "7530cfb4",
   "metadata": {},
   "outputs": [
    {
     "data": {
      "text/plain": [
       "6.0"
      ]
     },
     "execution_count": 5,
     "metadata": {},
     "output_type": "execute_result"
    }
   ],
   "source": [
    "float(6)"
   ]
  },
  {
   "cell_type": "markdown",
   "id": "1ae7185f",
   "metadata": {},
   "source": [
    "## Excercise 2: Assigning Variables "
   ]
  },
  {
   "cell_type": "code",
   "execution_count": 6,
   "id": "09682010",
   "metadata": {},
   "outputs": [
    {
     "name": "stdout",
     "output_type": "stream",
     "text": [
      "3\n",
      "4.0\n"
     ]
    }
   ],
   "source": [
    "x = 2   #1 \n",
    "print(x+1)     #2\n",
    "x = 3.0\n",
    "x = x+1        #3\n",
    "print(x) \n",
    "\n"
   ]
  },
  {
   "cell_type": "markdown",
   "id": "a3986fdc",
   "metadata": {},
   "source": [
    "## Excercise 3: Variable Names"
   ]
  },
  {
   "cell_type": "code",
   "execution_count": 7,
   "id": "a9ad4361",
   "metadata": {},
   "outputs": [
    {
     "ename": "SyntaxError",
     "evalue": "invalid syntax (Temp/ipykernel_1144/3800965987.py, line 1)",
     "output_type": "error",
     "traceback": [
      "\u001b[1;36m  File \u001b[1;32m\"C:\\Users\\KHADGA~1\\AppData\\Local\\Temp/ipykernel_1144/3800965987.py\"\u001b[1;36m, line \u001b[1;32m1\u001b[0m\n\u001b[1;33m    1st_number = 1 #1\u001b[0m\n\u001b[1;37m     ^\u001b[0m\n\u001b[1;31mSyntaxError\u001b[0m\u001b[1;31m:\u001b[0m invalid syntax\n"
     ]
    }
   ],
   "source": [
    "1st_number = 1 #1"
   ]
  },
  {
   "cell_type": "code",
   "execution_count": null,
   "id": "9ffee3cf",
   "metadata": {},
   "outputs": [],
   "source": [
    "first_number = 1   #2\n",
    "first$number = 1   #3\n",
    "my_money  = 1000   #4\n",
    " "
   ]
  },
  {
   "cell_type": "markdown",
   "id": "f88b0581",
   "metadata": {},
   "source": [
    "## Excercise 4: Multiple Variables in Python"
   ]
  },
  {
   "cell_type": "code",
   "execution_count": null,
   "id": "0bcbd421",
   "metadata": {},
   "outputs": [],
   "source": [
    "x , y = 5 , 2 "
   ]
  },
  {
   "cell_type": "code",
   "execution_count": null,
   "id": "12398697",
   "metadata": {},
   "outputs": [],
   "source": [
    "x + x - y**2 #1 "
   ]
  },
  {
   "cell_type": "code",
   "execution_count": null,
   "id": "e83ecd63",
   "metadata": {},
   "outputs": [],
   "source": [
    "x , y = 8 , 5 #2 "
   ]
  },
  {
   "cell_type": "code",
   "execution_count": null,
   "id": "34246b73",
   "metadata": {},
   "outputs": [],
   "source": [
    "x // y        # 3"
   ]
  },
  {
   "cell_type": "markdown",
   "id": "1afee293",
   "metadata": {},
   "source": [
    "## Excercise 5: Comments in Python"
   ]
  },
  {
   "cell_type": "code",
   "execution_count": null,
   "id": "f9320263",
   "metadata": {},
   "outputs": [],
   "source": [
    "#1\n",
    "# This is a Comment "
   ]
  },
  {
   "cell_type": "code",
   "execution_count": null,
   "id": "4fd2c453",
   "metadata": {},
   "outputs": [],
   "source": [
    "#2\n",
    "pi = 3.14 \n",
    "# Set Variable pi equal to 3.14 \n"
   ]
  },
  {
   "cell_type": "code",
   "execution_count": null,
   "id": "2313f082",
   "metadata": {},
   "outputs": [],
   "source": [
    "#3\n",
    "pi = 3.14   # Set Variable pi equal to 3.14 \n"
   ]
  },
  {
   "cell_type": "markdown",
   "id": "6f275d08",
   "metadata": {},
   "source": [
    "## Excercise 6: The input() Function"
   ]
  },
  {
   "cell_type": "code",
   "execution_count": 13,
   "id": "3e21322d",
   "metadata": {},
   "outputs": [
    {
     "name": "stdout",
     "output_type": "stream",
     "text": [
      "What's your Name? \n",
      "akj\n",
      "Hello! akj.\n"
     ]
    }
   ],
   "source": [
    "#Choose a question to ask\n",
    "print('What\\'s your Name? ') #1\n",
    "name = input()               #2\n",
    "print(\"Hello! {}.\".format(name))"
   ]
  },
  {
   "cell_type": "markdown",
   "id": "1d65eca2",
   "metadata": {},
   "source": [
    "## Excercise 7: Boolean Variables"
   ]
  },
  {
   "cell_type": "code",
   "execution_count": 23,
   "id": "22bdc172",
   "metadata": {},
   "outputs": [
    {
     "name": "stdout",
     "output_type": "stream",
     "text": [
      "What's your age?:19\n",
      "age is over 18: True\n"
     ]
    },
    {
     "data": {
      "text/plain": [
       "bool"
      ]
     },
     "execution_count": 23,
     "metadata": {},
     "output_type": "execute_result"
    }
   ],
   "source": [
    "#1\n",
    "age = input(\"What's your age?:\")\n",
    "over_18 = int(age) > 18\n",
    "print(\"age is over 18:\", over_18)\n",
    "type (over_18)"
   ]
  },
  {
   "cell_type": "code",
   "execution_count": 26,
   "id": "cea46d30",
   "metadata": {},
   "outputs": [
    {
     "data": {
      "text/plain": [
       "bool"
      ]
     },
     "execution_count": 26,
     "metadata": {},
     "output_type": "execute_result"
    }
   ],
   "source": [
    "# over_21 = int(age) > 21\n",
    "# print(\"age is over 21:\", over_21)\n",
    "over_21 = False\n",
    "type (over_21)\n"
   ]
  },
  {
   "cell_type": "markdown",
   "id": "9c0ae542",
   "metadata": {},
   "source": [
    "## Excercise 8: Comparision Operators"
   ]
  },
  {
   "cell_type": "code",
   "execution_count": 30,
   "id": "7f89c7cb",
   "metadata": {},
   "outputs": [
    {
     "data": {
      "text/plain": [
       "False"
      ]
     },
     "execution_count": 30,
     "metadata": {},
     "output_type": "execute_result"
    }
   ],
   "source": [
    "age = 20 \n",
    "age <13\n"
   ]
  },
  {
   "cell_type": "code",
   "execution_count": 31,
   "id": "0eec45cd",
   "metadata": {},
   "outputs": [
    {
     "data": {
      "text/plain": [
       "True"
      ]
     },
     "execution_count": 31,
     "metadata": {},
     "output_type": "execute_result"
    }
   ],
   "source": [
    "age>= 20 and age<= 21"
   ]
  },
  {
   "cell_type": "code",
   "execution_count": 32,
   "id": "d70e212d",
   "metadata": {},
   "outputs": [
    {
     "data": {
      "text/plain": [
       "True"
      ]
     },
     "execution_count": 32,
     "metadata": {},
     "output_type": "execute_result"
    }
   ],
   "source": [
    "age != 21  "
   ]
  },
  {
   "cell_type": "code",
   "execution_count": 33,
   "id": "d3a3595c",
   "metadata": {},
   "outputs": [
    {
     "data": {
      "text/plain": [
       "False"
      ]
     },
     "execution_count": 33,
     "metadata": {},
     "output_type": "execute_result"
    }
   ],
   "source": [
    "age == 19"
   ]
  },
  {
   "cell_type": "code",
   "execution_count": 34,
   "id": "d1e218d0",
   "metadata": {},
   "outputs": [
    {
     "data": {
      "text/plain": [
       "True"
      ]
     },
     "execution_count": 34,
     "metadata": {},
     "output_type": "execute_result"
    }
   ],
   "source": [
    "6 == 6.0"
   ]
  },
  {
   "cell_type": "code",
   "execution_count": 35,
   "id": "777ae498",
   "metadata": {},
   "outputs": [
    {
     "data": {
      "text/plain": [
       "False"
      ]
     },
     "execution_count": 35,
     "metadata": {},
     "output_type": "execute_result"
    }
   ],
   "source": [
    "6 == '6'"
   ]
  },
  {
   "cell_type": "code",
   "execution_count": 36,
   "id": "c514019a",
   "metadata": {},
   "outputs": [
    {
     "data": {
      "text/plain": [
       "True"
      ]
     },
     "execution_count": 36,
     "metadata": {},
     "output_type": "execute_result"
    }
   ],
   "source": [
    "(age >= 20 and age <= 30) or (age >=30 and age<40)"
   ]
  },
  {
   "cell_type": "code",
   "execution_count": 37,
   "id": "53b03f39",
   "metadata": {},
   "outputs": [
    {
     "data": {
      "text/plain": [
       "True"
      ]
     },
     "execution_count": 37,
     "metadata": {},
     "output_type": "execute_result"
    }
   ],
   "source": [
    "(20 <= age < 30) or (30 <= age < 40)"
   ]
  },
  {
   "cell_type": "markdown",
   "id": "6268a1b3",
   "metadata": {},
   "source": [
    "## Excercise 9: Using the 'if' Syntax"
   ]
  },
  {
   "cell_type": "code",
   "execution_count": 38,
   "id": "08a9e77e",
   "metadata": {},
   "outputs": [],
   "source": [
    "age = 20"
   ]
  },
  {
   "cell_type": "code",
   "execution_count": 40,
   "id": "4efedef9",
   "metadata": {},
   "outputs": [
    {
     "name": "stdout",
     "output_type": "stream",
     "text": [
      "At least you can vote.\n",
      "Poker will have to wait.\n"
     ]
    }
   ],
   "source": [
    "if age >= 18 and age < 21:\n",
    "    print('At least you can vote.')\n",
    "    print('Poker will have to wait.')"
   ]
  },
  {
   "cell_type": "code",
   "execution_count": 41,
   "id": "984f3e77",
   "metadata": {},
   "outputs": [
    {
     "name": "stdout",
     "output_type": "stream",
     "text": [
      "You can vote.\n"
     ]
    }
   ],
   "source": [
    "if age >= 18:\n",
    "    print('You can vote.')\n",
    "    if age >= 21:\n",
    "        print('You can play poker.')"
   ]
  },
  {
   "cell_type": "markdown",
   "id": "6bf7b0a8",
   "metadata": {},
   "source": [
    "## Excercise 10: Using the 'if-else' Synatax"
   ]
  },
  {
   "cell_type": "code",
   "execution_count": 42,
   "id": "f034f162",
   "metadata": {},
   "outputs": [],
   "source": [
    "age = 20"
   ]
  },
  {
   "cell_type": "code",
   "execution_count": 43,
   "id": "f1030d18",
   "metadata": {},
   "outputs": [
    {
     "name": "stdout",
     "output_type": "stream",
     "text": [
      "Welcome to our voting program.\n"
     ]
    }
   ],
   "source": [
    "if age < 18:\n",
    "    print('You aren\\'t old enough to vote.')\n",
    "else:\n",
    "    print('Welcome to our voting program.')"
   ]
  },
  {
   "cell_type": "code",
   "execution_count": 44,
   "id": "93f32afd",
   "metadata": {},
   "outputs": [
    {
     "name": "stdout",
     "output_type": "stream",
     "text": [
      "Welcome to our voting program.\n"
     ]
    }
   ],
   "source": [
    "if age >= 18:\n",
    "    print('Welcome to our voting program.')\n",
    "else:\n",
    "    print('You aren\\'t old enough to vote.')"
   ]
  },
  {
   "cell_type": "code",
   "execution_count": null,
   "id": "221977d3",
   "metadata": {},
   "outputs": [],
   "source": []
  }
 ],
 "metadata": {
  "kernelspec": {
   "display_name": "Python 3 (ipykernel)",
   "language": "python",
   "name": "python3"
  },
  "language_info": {
   "codemirror_mode": {
    "name": "ipython",
    "version": 3
   },
   "file_extension": ".py",
   "mimetype": "text/x-python",
   "name": "python",
   "nbconvert_exporter": "python",
   "pygments_lexer": "ipython3",
   "version": "3.9.6"
  }
 },
 "nbformat": 4,
 "nbformat_minor": 5
}
